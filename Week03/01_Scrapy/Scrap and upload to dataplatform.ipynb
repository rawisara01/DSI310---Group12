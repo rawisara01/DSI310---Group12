{
 "cells": [
  {
   "cell_type": "markdown",
   "id": "c098ed62",
   "metadata": {},
   "source": [
    "# scrap"
   ]
  },
  {
   "cell_type": "markdown",
   "id": "3d5ea586",
   "metadata": {},
   "source": [
    "## Getting data from 77kaoded.com"
   ]
  },
  {
   "cell_type": "code",
   "execution_count": null,
   "id": "be8b30e6-9d60-478f-ac62-78a8b5b73c18",
   "metadata": {},
   "outputs": [],
   "source": [
    "pip install scrapy"
   ]
  },
  {
   "cell_type": "code",
   "execution_count": null,
   "id": "c44a5cd3-2d8b-45d7-b20a-a66d53a2d50f",
   "metadata": {},
   "outputs": [],
   "source": [
    "from gc import callbacks\n",
    "import scrapy\n",
    "import json\n",
    "from scrapy.spiders import CrawlSpider, Rule\n",
    "from scrapy.linkextractors import LinkExtractor\n",
    "from scrapy.crawler import CrawlerProcess"
   ]
  },
  {
   "cell_type": "code",
   "execution_count": null,
   "id": "17c82996-9414-4f34-92e5-f64807bf4523",
   "metadata": {},
   "outputs": [],
   "source": [
    "class kaodedSpider(scrapy.Spider):\n",
    "    name = \"kaoded\"\n",
    "    start_urls = ['https://www.77kaoded.com/?s=%E0%B8%AD%E0%B8%B8%E0%B8%9A%E0%B8%B1%E0%B8%95%E0%B8%B4%E0%B9%80%E0%B8%AB%E0%B8%95%E0%B8%B8']\n",
    "    \n",
    "    custom_settings = {\n",
    "        'FEEDS': {'kaoded.json': { 'format': 'json'}},\n",
    "        'DEPTH_LIMIT': 10\n",
    "    }\n",
    "    \n",
    "    def parse(self, response):\n",
    "        for news in response.css('div.content-item.-card.card.-side'):\n",
    "            yield {\n",
    "                'topic_acc': news.css('div.info h3.entry-title.title a::text').get(),\n",
    "                'date_published': news.css('div.info span.posted-on time.entry-date.published::text').get(),\n",
    "                'province_acc': news.css('div.pic a.button.button-primary.button-province.button-small::text').get(),\n",
    "                'link_url': news.css('h3.entry-title.title a::attr(href)').get(),\n",
    "            }    \n",
    "\n",
    "        next_page = response.css('div.content-pagination a.next.page-numbers::attr(href)').get()\n",
    "        if next_page is not None:\n",
    "            next_page = response.urljoin(next_page)\n",
    "            yield scrapy.Request(next_page, callback=self.parse)"
   ]
  },
  {
   "cell_type": "code",
   "execution_count": null,
   "id": "0b33ce1a-4375-4e00-a5bf-3a02114719af",
   "metadata": {},
   "outputs": [],
   "source": [
    "process = CrawlerProcess()\n",
    "process.crawl(kaodedSpider)\n",
    "process.start()"
   ]
  },
  {
   "cell_type": "markdown",
   "id": "22e6afdd",
   "metadata": {},
   "source": [
    "## Upload data to DataPlatform"
   ]
  },
  {
   "cell_type": "code",
   "execution_count": null,
   "id": "6c3b5f2d-ddec-49dd-ab6c-022b65e0e643",
   "metadata": {},
   "outputs": [],
   "source": [
    "from dsmlibrary.datanode import DataNode"
   ]
  },
  {
   "cell_type": "code",
   "execution_count": null,
   "id": "c11eaba3-894e-449d-94f0-a32144c62c1f",
   "metadata": {},
   "outputs": [],
   "source": [
    "dir_raw_id = 64"
   ]
  },
  {
   "cell_type": "code",
   "execution_count": null,
   "id": "cfff7117-5c3b-4d94-a2fe-3ab271b01df0",
   "metadata": {},
   "outputs": [],
   "source": [
    "datanode = DataNode()"
   ]
  },
  {
   "cell_type": "code",
   "execution_count": null,
   "id": "299f47ed-2404-4617-9f01-d6cd4ae8caf6",
   "metadata": {},
   "outputs": [],
   "source": [
    "datanode.upload_file(directory_id=dir_raw_id, file_path='kaoded.json')"
   ]
  }
 ],
 "metadata": {
  "kernelspec": {
   "display_name": "Python 3",
   "language": "python",
   "name": "python3"
  },
  "language_info": {
   "codemirror_mode": {
    "name": "ipython",
    "version": 3
   },
   "file_extension": ".py",
   "mimetype": "text/x-python",
   "name": "python",
   "nbconvert_exporter": "python",
   "pygments_lexer": "ipython3",
   "version": "3.8.8"
  }
 },
 "nbformat": 4,
 "nbformat_minor": 5
}
