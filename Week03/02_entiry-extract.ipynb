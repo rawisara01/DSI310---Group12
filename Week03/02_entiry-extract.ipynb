{
 "cells": [
  {
   "cell_type": "markdown",
   "id": "650b44b0-e879-4125-8454-4be0e70dd62e",
   "metadata": {},
   "source": [
    "# install extra library"
   ]
  },
  {
   "cell_type": "code",
   "execution_count": 1,
   "id": "caac9aee-8a9d-4a2c-b562-dc85714ff027",
   "metadata": {},
   "outputs": [
    {
     "name": "stdout",
     "output_type": "stream",
     "text": [
      "Collecting transformers\n",
      "  Using cached transformers-4.24.0-py3-none-any.whl (5.5 MB)\n",
      "Collecting torch\n",
      "  Downloading torch-1.13.0-cp310-cp310-manylinux1_x86_64.whl (890.1 MB)\n",
      "\u001b[2K     \u001b[90m━━━━━━━━━━━━━━━━━━━━━━━━━━━━━━━━━━━━━\u001b[0m \u001b[32m890.1/890.1 MB\u001b[0m \u001b[31m976.6 kB/s\u001b[0m eta \u001b[36m0:00:00\u001b[0m00:01\u001b[0m00:05\u001b[0m\n",
      "\u001b[?25hRequirement already satisfied: numpy>=1.17 in /opt/conda/lib/python3.10/site-packages (from transformers) (1.22.4)\n",
      "Requirement already satisfied: requests in /opt/conda/lib/python3.10/site-packages (from transformers) (2.28.1)\n",
      "Requirement already satisfied: pyyaml>=5.1 in /opt/conda/lib/python3.10/site-packages (from transformers) (6.0)\n",
      "Collecting huggingface-hub<1.0,>=0.10.0\n",
      "  Downloading huggingface_hub-0.10.1-py3-none-any.whl (163 kB)\n",
      "\u001b[2K     \u001b[90m━━━━━━━━━━━━━━━━━━━━━━━━━━━━━━━━━━━━━━━\u001b[0m \u001b[32m163.5/163.5 kB\u001b[0m \u001b[31m5.0 MB/s\u001b[0m eta \u001b[36m0:00:00\u001b[0m\n",
      "\u001b[?25hCollecting regex!=2019.12.17\n",
      "  Downloading regex-2022.10.31-cp310-cp310-manylinux_2_17_x86_64.manylinux2014_x86_64.whl (770 kB)\n",
      "\u001b[2K     \u001b[90m━━━━━━━━━━━━━━━━━━━━━━━━━━━━━━━━━━━━━━━\u001b[0m \u001b[32m770.5/770.5 kB\u001b[0m \u001b[31m5.4 MB/s\u001b[0m eta \u001b[36m0:00:00\u001b[0m00:01\u001b[0m00:01\u001b[0m\n",
      "\u001b[?25hRequirement already satisfied: packaging>=20.0 in /opt/conda/lib/python3.10/site-packages (from transformers) (21.3)\n",
      "Collecting tokenizers!=0.11.3,<0.14,>=0.11.1\n",
      "  Downloading tokenizers-0.13.2-cp310-cp310-manylinux_2_17_x86_64.manylinux2014_x86_64.whl (7.6 MB)\n",
      "\u001b[2K     \u001b[90m━━━━━━━━━━━━━━━━━━━━━━━━━━━━━━━━━━━━━━━━\u001b[0m \u001b[32m7.6/7.6 MB\u001b[0m \u001b[31m4.9 MB/s\u001b[0m eta \u001b[36m0:00:00\u001b[0m00:01\u001b[0m00:01\u001b[0m\n",
      "\u001b[?25hRequirement already satisfied: tqdm>=4.27 in /opt/conda/lib/python3.10/site-packages (from transformers) (4.64.0)\n",
      "Requirement already satisfied: filelock in /opt/conda/lib/python3.10/site-packages (from transformers) (3.8.0)\n",
      "Collecting nvidia-cuda-nvrtc-cu11==11.7.99\n",
      "  Downloading nvidia_cuda_nvrtc_cu11-11.7.99-2-py3-none-manylinux1_x86_64.whl (21.0 MB)\n",
      "\u001b[2K     \u001b[90m━━━━━━━━━━━━━━━━━━━━━━━━━━━━━━━━━━━━━━━━\u001b[0m \u001b[32m21.0/21.0 MB\u001b[0m \u001b[31m2.5 MB/s\u001b[0m eta \u001b[36m0:00:00\u001b[0m00:01\u001b[0m00:01\u001b[0m\n",
      "\u001b[?25hRequirement already satisfied: typing-extensions in /opt/conda/lib/python3.10/site-packages (from torch) (4.3.0)\n",
      "Collecting nvidia-cublas-cu11==11.10.3.66\n",
      "  Downloading nvidia_cublas_cu11-11.10.3.66-py3-none-manylinux1_x86_64.whl (317.1 MB)\n",
      "\u001b[2K     \u001b[90m━━━━━━━━━━━━━━━━━━━━━━━━━━━━━━━━━━━━━━━\u001b[0m \u001b[32m317.1/317.1 MB\u001b[0m \u001b[31m2.4 MB/s\u001b[0m eta \u001b[36m0:00:00\u001b[0m00:01\u001b[0m00:02\u001b[0m\n",
      "\u001b[?25hCollecting nvidia-cudnn-cu11==8.5.0.96\n",
      "  Downloading nvidia_cudnn_cu11-8.5.0.96-2-py3-none-manylinux1_x86_64.whl (557.1 MB)\n",
      "\u001b[2K     \u001b[90m━━━━━━━━━━━━━━━━━━━━━━━━━━━━━━━━━━━━━━━\u001b[0m \u001b[32m557.1/557.1 MB\u001b[0m \u001b[31m1.9 MB/s\u001b[0m eta \u001b[36m0:00:00\u001b[0m00:01\u001b[0m00:03\u001b[0m\n",
      "\u001b[?25hCollecting nvidia-cuda-runtime-cu11==11.7.99\n",
      "  Downloading nvidia_cuda_runtime_cu11-11.7.99-py3-none-manylinux1_x86_64.whl (849 kB)\n",
      "\u001b[2K     \u001b[90m━━━━━━━━━━━━━━━━━━━━━━━━━━━━━━━━━━━━━━━\u001b[0m \u001b[32m849.3/849.3 kB\u001b[0m \u001b[31m4.8 MB/s\u001b[0m eta \u001b[36m0:00:00\u001b[0m00:01\u001b[0m00:01\u001b[0m\n",
      "\u001b[?25hRequirement already satisfied: wheel in /opt/conda/lib/python3.10/site-packages (from nvidia-cublas-cu11==11.10.3.66->torch) (0.37.1)\n",
      "Requirement already satisfied: setuptools in /opt/conda/lib/python3.10/site-packages (from nvidia-cublas-cu11==11.10.3.66->torch) (63.2.0)\n",
      "Requirement already satisfied: pyparsing!=3.0.5,>=2.0.2 in /opt/conda/lib/python3.10/site-packages (from packaging>=20.0->transformers) (3.0.9)\n",
      "Requirement already satisfied: charset-normalizer<3,>=2 in /opt/conda/lib/python3.10/site-packages (from requests->transformers) (2.1.0)\n",
      "Requirement already satisfied: certifi>=2017.4.17 in /opt/conda/lib/python3.10/site-packages (from requests->transformers) (2022.6.15)\n",
      "Requirement already satisfied: urllib3<1.27,>=1.21.1 in /opt/conda/lib/python3.10/site-packages (from requests->transformers) (1.26.11)\n",
      "Requirement already satisfied: idna<4,>=2.5 in /opt/conda/lib/python3.10/site-packages (from requests->transformers) (3.3)\n",
      "Installing collected packages: tokenizers, regex, nvidia-cuda-runtime-cu11, nvidia-cuda-nvrtc-cu11, nvidia-cublas-cu11, nvidia-cudnn-cu11, huggingface-hub, transformers, torch\n",
      "Successfully installed huggingface-hub-0.10.1 nvidia-cublas-cu11-11.10.3.66 nvidia-cuda-nvrtc-cu11-11.7.99 nvidia-cuda-runtime-cu11-11.7.99 nvidia-cudnn-cu11-8.5.0.96 regex-2022.10.31 tokenizers-0.13.2 torch-1.13.0 transformers-4.24.0\n",
      "Collecting sentencepiece\n",
      "  Using cached sentencepiece-0.1.97-cp310-cp310-manylinux_2_17_x86_64.manylinux2014_x86_64.whl (1.3 MB)\n",
      "Installing collected packages: sentencepiece\n",
      "Successfully installed sentencepiece-0.1.97\n"
     ]
    }
   ],
   "source": [
    "!pip install transformers torch\n",
    "!pip install sentencepiece"
   ]
  },
  {
   "cell_type": "markdown",
   "id": "33e416c3-16dd-4a05-87ab-1e6234bd4e69",
   "metadata": {},
   "source": [
    "# read stored data from DataPlatform"
   ]
  },
  {
   "cell_type": "code",
   "execution_count": 3,
   "id": "985ec124-db7f-4452-9987-5099f257be6f",
   "metadata": {},
   "outputs": [],
   "source": [
    "from dsmlibrary.datanode import DataNode\n",
    "import json\n",
    "from tqdm.auto import tqdm\n",
    "import pandas as pd"
   ]
  },
  {
   "cell_type": "code",
   "execution_count": 4,
   "id": "86ba1ee8-1e0e-4008-be98-c805f00a97ec",
   "metadata": {},
   "outputs": [],
   "source": [
    "dir_raw_id = 64\n",
    "dir_process_id = 65"
   ]
  },
  {
   "cell_type": "code",
   "execution_count": 5,
   "id": "38af7e6b-a437-49f0-aeef-1d3eed65f5cf",
   "metadata": {},
   "outputs": [
    {
     "name": "stdout",
     "output_type": "stream",
     "text": [
      "Init DataNode sucessful!\n"
     ]
    }
   ],
   "source": [
    "datanode = DataNode()"
   ]
  },
  {
   "cell_type": "code",
   "execution_count": 6,
   "id": "bed2cd26-e32a-494a-91b2-4def7af42d4d",
   "metadata": {},
   "outputs": [
    {
     "data": {
      "text/plain": [
       "{'owner': 'suphawadi',\n",
       " 'human_size': '67.03 KB',\n",
       " 'name': 'kaoded.json',\n",
       " 'description': 'file kaoded.json',\n",
       " 'directory': 64,\n",
       " 'path': 'suphawadi/DSI310-12/rawData/kaoded.json'}"
      ]
     },
     "execution_count": 6,
     "metadata": {},
     "output_type": "execute_result"
    }
   ],
   "source": [
    "meta, fp = datanode.get_file(datanode.get_file_id(directory_id=dir_raw_id, name='kaoded.json'))\n",
    "meta"
   ]
  },
  {
   "cell_type": "code",
   "execution_count": 7,
   "id": "a0dd839b-9238-43d5-a4ce-8dea113adaaa",
   "metadata": {},
   "outputs": [
    {
     "data": {
      "text/plain": [
       "[{'topic_acc': 'สงขลา ปาดังเบซาร์-ท่าข่อย ถนนพังเป็นหลุมใหญ่ เกิดอุบัติเหตุหลายครั้ง หน่วยงานฯเมิน',\n",
       "  'date_published': '07 พ.ย. 2022',\n",
       "  'province_acc': 'สงขลา',\n",
       "  'link_url': 'https://www.77kaoded.com/news/phumarin/2365601'},\n",
       " {'topic_acc': 'เพชรบูรณ์-ผญบ.ทับเบิกเบื่อทนฟัง 9 ปีอยู่ในเขตป่า นำชาวบ้านเดินหน้าลุยซ่อมถนน โดยไม่ใช้งบฯราชการ หลังนทท.เกิดอุบัติเหตุบ่อย',\n",
       "  'date_published': '02 พ.ย. 2022',\n",
       "  'province_acc': 'เพชรบูรณ์',\n",
       "  'link_url': 'https://www.77kaoded.com/news/soontorn/2362961'},\n",
       " {'topic_acc': 'อุบัติเหตุสยอง!! ปิคอัพชน จยย.พ่วงข้างอย่างจัง ร่างปลิวตกสะพานข้ามคลองพระสทึงจมดับ',\n",
       "  'date_published': '29 ต.ค. 2022',\n",
       "  'province_acc': 'สระแก้ว',\n",
       "  'link_url': 'https://www.77kaoded.com/news/thanapat/2361453'},\n",
       " {'topic_acc': 'ลำปางรณรงค์ลดอุบัติเหตุทางข้ามเคร่งครัดบังคับใช้กฎหมาย พ.ร.บ.จราจรทางบก',\n",
       "  'date_published': '26 ต.ค. 2022',\n",
       "  'province_acc': 'ลำปาง',\n",
       "  'link_url': 'https://www.77kaoded.com/news/prateep/2360276'},\n",
       " {'topic_acc': 'นครนายก- (มีคลิป) อุบัติเหตุรถยนต์เสียหลักพุ่งชนเสาไฟฟ้า ดับ 1 สาหัส 4 ราย เจ็บเล็กน้อย 1 ราย',\n",
       "  'date_published': '09 ต.ค. 2022',\n",
       "  'province_acc': 'นครนายก',\n",
       "  'link_url': 'https://www.77kaoded.com/news/ibaspea/2352400'},\n",
       " {'topic_acc': 'ชาวบ้านวอนซ่อมถนนพัง ถนนสาย 304 หวิดเกิดอุบัติเหตุทุกวินาที',\n",
       "  'date_published': '06 ต.ค. 2022',\n",
       "  'province_acc': 'ปราจีนบุรี',\n",
       "  'link_url': 'https://www.77kaoded.com/news/thanapat/2350629'},\n",
       " {'topic_acc': 'สงขลา ซ้ำซาก!!! อุบัติเหตุรถยนต์กระบะชนท้ายเทรลเลอร์ “อส.สะเดา”ดับพร้อมภรรยา',\n",
       "  'date_published': '24 ก.ย. 2022',\n",
       "  'province_acc': 'สงขลา',\n",
       "  'link_url': 'https://www.77kaoded.com/news/phumarin/2344176'},\n",
       " {'topic_acc': 'เมืองกาญจน์ Kick off สวมหมวกนิรภัย 100% รณรงค์สร้างจิตสำนึกลดอุบัติเหตุบนท้องถนน (ชมคลิป)',\n",
       "  'date_published': '21 ก.ย. 2022',\n",
       "  'province_acc': 'กาญจนบุรี',\n",
       "  'link_url': 'https://www.77kaoded.com/news/sarun/2343028'},\n",
       " {'topic_acc': 'ตรังจัดป้องกันการเกิดอุบัติเหตุและรณรงค์สวมหมวกนิรภัย 100 เปอร์เซ็นต์',\n",
       "  'date_published': '21 ก.ย. 2022',\n",
       "  'province_acc': 'ตรัง',\n",
       "  'link_url': 'https://www.77kaoded.com/news/nopparat-chotikasemkul/2342983'},\n",
       " {'topic_acc': 'ชาวบ้านสุดจะทน!! ขนต้นไม้ปลูกกลางถนนสายหลัก หลังถนนพังเกิดอุบัติเหตุบ่อย จ.สระแก้ว',\n",
       "  'date_published': '21 ก.ย. 2022',\n",
       "  'province_acc': 'สระแก้ว',\n",
       "  'link_url': 'https://www.77kaoded.com/news/thanapat/2342855'},\n",
       " {'topic_acc': 'นครนายก-อุบัติเหตุรถเก๋งพุ่งชน รถจยย. คนขี่รถจยย. ลอยไปกระแทกเสาฟ้า ดับคาที่',\n",
       "  'date_published': '14 ก.ย. 2022',\n",
       "  'province_acc': 'นครนายก',\n",
       "  'link_url': 'https://www.77kaoded.com/news/ibaspea/2340136'},\n",
       " {'topic_acc': 'อุบัติเหตุซ้ำซาก!! รถพ่วง 22 ล้อ บรรทุกไม้ไผ่พลิกคว่ำปิดทางขึ้น-ลง ช่องเขาตะโกเป็นอัมพาตเกือบครึ่งวัน',\n",
       "  'date_published': '10 ก.ย. 2022',\n",
       "  'province_acc': 'สระแก้ว',\n",
       "  'link_url': 'https://www.77kaoded.com/news/thanapat/2338596'},\n",
       " {'topic_acc': 'สระแก้ว ฝนตกหนักถนนลื่นเกิดอุบัติเหตุกระบะเสียหลักพลิกคว่ำชนเสาไฟฟ้าดับ 1 ราย',\n",
       "  'date_published': '08 ก.ย. 2022',\n",
       "  'province_acc': 'สระแก้ว',\n",
       "  'link_url': 'https://www.77kaoded.com/news/thanapat/2337031'},\n",
       " {'topic_acc': 'รณรงค์เพื่อลดอุบัติเหตุบริเวณทางข้าม',\n",
       "  'date_published': '21 ส.ค. 2022',\n",
       "  'province_acc': 'อุทัยธานี',\n",
       "  'link_url': 'https://www.77kaoded.com/news/nantasak/2328784'},\n",
       " {'topic_acc': 'รพ.ลำปาง เปิดศูนย์อุบัติเหตุฉุกเฉินอัจฉริยะและหอผู้ป่วยวิกฤต เสริมประสิทธิภาพด้านการรักษา',\n",
       "  'date_published': '20 ส.ค. 2022',\n",
       "  'province_acc': 'ลำปาง',\n",
       "  'link_url': 'https://www.77kaoded.com/news/prateep/2328455'},\n",
       " {'topic_acc': 'ผอ.สถาบันฯ ปิดทองหลังพระฯ ประสบอุบัติเหตุเสียชีวิต ที่เพชรบุรี',\n",
       "  'date_published': '18 ส.ค. 2022',\n",
       "  'province_acc': 'เพชรบุรี',\n",
       "  'link_url': 'https://www.77kaoded.com/news/suwarot/2327313'},\n",
       " {'topic_acc': 'ตายอีก 1 ราย อุบัติเหตุหมู่นักเรียนขับปิกอัพพลิกคว่ำชนเสาไฟฟ้า จ.สระแก้ว',\n",
       "  'date_published': '18 ส.ค. 2022',\n",
       "  'province_acc': 'สระแก้ว',\n",
       "  'link_url': 'https://www.77kaoded.com/news/thanapat/2327113'},\n",
       " {'topic_acc': 'ลำพูน การนิคมฯนำพนักงาน ผู้ประกอบการและประชาชน อบรมสร้างวินัยจราจรลดอุบัติเหตุและการเสียชีวิต',\n",
       "  'date_published': '15 ส.ค. 2022',\n",
       "  'province_acc': 'ลำพูน',\n",
       "  'link_url': 'https://www.77kaoded.com/news/chatree/2325770'},\n",
       " {'topic_acc': 'มอบโลงศพบริจาคช่วยนักเรียนที่ประสบอุบัติเหตุหมู่ แม่เผยหัวใจแทบสลาย มีลูกแค่คนเดียว ไม่อยากให้เด็กเอารถยนต์มาใช้กันเองแบบนี้',\n",
       "  'date_published': '13 ส.ค. 2022',\n",
       "  'province_acc': 'สระแก้ว',\n",
       "  'link_url': 'https://www.77kaoded.com/news/thanapat/2324972'},\n",
       " {'topic_acc': 'นายอำเภอธาตุพนม มอบสินไหมให้ทายาทผู้ประสบอุบัติเหตุ 8 ราย',\n",
       "  'date_published': '04 ส.ค. 2022',\n",
       "  'province_acc': 'นครพนม',\n",
       "  'link_url': 'https://www.77kaoded.com/news/tawee/2320699'},\n",
       " {'topic_acc': 'บรรทุกหนัก!! อุบัติเหตุ 10 ล้อ หัวพ่วงขาดกระเด็นข้ามเลนชนกันสนั่นพังยับ พระเจ็บ 3 ราย รถติดระนาว',\n",
       "  'date_published': '03 ส.ค. 2022',\n",
       "  'province_acc': 'สระแก้ว',\n",
       "  'link_url': 'https://www.77kaoded.com/news/thanapat/2320032'},\n",
       " {'topic_acc': 'คณะกรรมการสอบสวนอุบัติเหตุและอุบัติการณ์ของอากาศยาน (กสอ.)ได้อนุญาตให้มีการเคลื่อนย้ายอากาศยาน',\n",
       "  'date_published': '02 ส.ค. 2022',\n",
       "  'province_acc': 'เชียงราย',\n",
       "  'link_url': 'https://www.77kaoded.com/news/big/2319562'},\n",
       " {'topic_acc': 'นครนายก-อุบัติเหตุรถพ่วงพุ่งชนรถ 6 ล้อกับรถกระบะ 2 คันรวด',\n",
       "  'date_published': '01 ส.ค. 2022',\n",
       "  'province_acc': 'นครนายก',\n",
       "  'link_url': 'https://www.77kaoded.com/news/ibaspea/2319309'},\n",
       " {'topic_acc': 'สลดรถทัวร์ นทท.ชาวไทยเกิดอุบัติเหตุที่ลาวเสียชีวิต 5 ราย 2 รายเป็นชาวขอนแก่น',\n",
       "  'date_published': '01 ส.ค. 2022',\n",
       "  'province_acc': 'ขอนแก่น',\n",
       "  'link_url': 'https://www.77kaoded.com/news/aekkapongputta/2319201'},\n",
       " {'topic_acc': 'อันตรายสายเคเบิ้ลเกลื่อนพื้นถนนจนทำให้เกิดอุบัติเหตุเกี่ยวรถจักรยานยนต์',\n",
       "  'date_published': '27 ก.ค. 2022',\n",
       "  'province_acc': 'สมุทรปราการ',\n",
       "  'link_url': 'https://www.77kaoded.com/news/diawkongsin/2317024'},\n",
       " {'topic_acc': 'สุดสลด “กอล์ฟ กิ๊ฟช็อป”หนุ่มพิการสู้ชีวิตประสบอุบัติเหตุเสียชีวิต',\n",
       "  'date_published': '26 ก.ค. 2022',\n",
       "  'province_acc': 'นนทบุรี',\n",
       "  'link_url': 'https://www.77kaoded.com/news/boonchoo-poungmala/2316863'},\n",
       " {'topic_acc': 'เตือนภัย จุดตัดถนนทางรถไฟ สุดอันตราย อุบัติเหตุซ้ำซาก วอนหน่วยงานรับผิดชอบแก้ไขด่วน',\n",
       "  'date_published': '26 ก.ค. 2022',\n",
       "  'province_acc': 'สงขลา',\n",
       "  'link_url': 'https://www.77kaoded.com/news/phumarin/2316700'},\n",
       " {'topic_acc': 'หนุ่มโวย !!! แท่งแบริเออร์ไม่มีอะไรใส่ถ่วงน้ำหนักรถเยียบปลิวว่อน ทำรถ จยย.วิ่งทับเกิดอุบัติเหตุ',\n",
       "  'date_published': '22 ก.ค. 2022',\n",
       "  'province_acc': 'เชียงราย',\n",
       "  'link_url': 'https://www.77kaoded.com/news/big/2315060'},\n",
       " {'topic_acc': 'ฝนตกในพื้นที่ภูเก็ต จักรยานยนต์เกิดอุบัติเหตุหลายราย นายกราไวย์เตือนขับขี่ระมัดระวัง',\n",
       "  'date_published': '21 ก.ค. 2022',\n",
       "  'province_acc': 'ภูเก็ต',\n",
       "  'link_url': 'https://www.77kaoded.com/news/nantinats/2314608'},\n",
       " {'topic_acc': 'ชาวบ้านโวยกรมทางหลวงสร้างทาง 4 ช่องจราจร มีการปลูกหญ้าข้างแท่งคอนกรีตเกาะกลางถนนทำให้เสี่ยงเกิดอุบัติเหตุ\\xa0',\n",
       "  'date_published': '20 ก.ค. 2022',\n",
       "  'province_acc': 'พังงา',\n",
       "  'link_url': 'https://www.77kaoded.com/news/anothai-ngandee/2313882'},\n",
       " {'topic_acc': 'พัทลุง-อุบัติเหตุซ้ำเฮลิคอปเตอร์แบล็กฮอว์กคณะของแม่ทัพภาค 4 ขณะขนย้าย ไปที่ จ.ลพบุรี เพื่อพิสูจน์หาสาเหตุ',\n",
       "  'date_published': '18 ก.ค. 2022',\n",
       "  'province_acc': 'พัทลุง',\n",
       "  'link_url': 'https://www.77kaoded.com/news/sakboon/2313296'},\n",
       " {'topic_acc': 'ปราจีนบุรี อุบัติเหตุกระบะเสียหลักชนคอสะพานหวิดดับยกครัว',\n",
       "  'date_published': '18 ก.ค. 2022',\n",
       "  'province_acc': 'ปราจีนบุรี',\n",
       "  'link_url': 'https://www.77kaoded.com/news/thanapat/2313067'},\n",
       " {'topic_acc': 'สงขลา ด่วน !!! อุบัติเหตุ ฮ.เเม่ทัพภาค 4 ตกกลางสวนยาง โชคดีแค่บาดเจ็บ',\n",
       "  'date_published': '15 ก.ค. 2022',\n",
       "  'province_acc': 'สงขลา',\n",
       "  'link_url': 'https://www.77kaoded.com/news/phumarin/2312252'},\n",
       " {'topic_acc': 'ขอนแก่นตั้งศูนย์ปฏิบัติการป้องกันและลดอุบัติเหตุทางถนนช่วงเทศกาลหยุดยาว 13 -17 ก.ค. 2565',\n",
       "  'date_published': '12 ก.ค. 2022',\n",
       "  'province_acc': 'ขอนแก่น',\n",
       "  'link_url': 'https://www.77kaoded.com/news/aekkapongputta/2310847'},\n",
       " {'topic_acc': 'อุบัติเหตุสลดคร่าชีวิต สจ.คนดัง 2 สมัย',\n",
       "  'date_published': '06 ก.ค. 2022',\n",
       "  'province_acc': 'น่าน',\n",
       "  'link_url': 'https://www.77kaoded.com/news/chairat/2308553'},\n",
       " {'topic_acc': 'ผู้รับเหมา ปรับปรุงผิวจราจร กลางคืนไร้แสงไฟ เกิดอุบัติเหตุบ่อยครั้งจนทำให้ปู่วัย 81 ปีเสียชีวิต',\n",
       "  'date_published': '16 มิ.ย. 2022',\n",
       "  'province_acc': 'ภูเก็ต',\n",
       "  'link_url': 'https://www.77kaoded.com/news/nantinats/2299811'},\n",
       " {'topic_acc': 'ยิงกันในงานบวชที่เพชรบุรี คนยิงหนีไปเกิดอุบัติเหตุจนปืนตก แต่ก็ยังขับรถหนีไปได้',\n",
       "  'date_published': '12 มิ.ย. 2022',\n",
       "  'province_acc': 'เพชรบุรี',\n",
       "  'link_url': 'https://www.77kaoded.com/news/suwarot/2297756'},\n",
       " {'topic_acc': 'อุบัติเหตุสลดรับอุรณ รถตู้โดยสารชนชายนุ่งขาวเสียชีวิตคาที่',\n",
       "  'date_published': '11 มิ.ย. 2022',\n",
       "  'province_acc': 'ปราจีนบุรี',\n",
       "  'link_url': 'https://www.77kaoded.com/news/thanapat/2297539'},\n",
       " {'topic_acc': 'เกิดอุบัติเหตุยางรถไถระเบิดใส่หน้าเสียชีวิตคาที่ จ.สระแก้ว',\n",
       "  'date_published': '04 มิ.ย. 2022',\n",
       "  'province_acc': 'สระแก้ว',\n",
       "  'link_url': 'https://www.77kaoded.com/news/thanapat/2294733'},\n",
       " {'topic_acc': '“นครพนมมีแต่คนน่ารัก” ผจก.ร้านเหล้าเผย ลูกค้าเมากลัวอุบัติเหตุเปิดพัดลมให้นอน',\n",
       "  'date_published': '31 พ.ค. 2022',\n",
       "  'province_acc': 'นครพนม',\n",
       "  'link_url': 'https://www.77kaoded.com/news/tawee/2293016'},\n",
       " {'topic_acc': '(คลิป) มือดีโทรแจ้งตร.ตรัง มีอุบัติเหตุใหญ่ จนท.-นักข่าว บึ่งรถไม่แคร์น้ำมันแพง แต่พบแค่ความว่างเปล่า',\n",
       "  'date_published': '30 พ.ค. 2022',\n",
       "  'province_acc': 'ตรัง',\n",
       "  'link_url': 'https://www.77kaoded.com/news/mydear/2292800'},\n",
       " {'topic_acc': 'ปทุมธานี เดินหน้ารณรงค์ “ลดอุบัติเหตุบริเวณทางข้ามและสวมหมวกนิรภัย 100 %” มุ่งสร้างวินัยจราจร',\n",
       "  'date_published': '23 พ.ค. 2022',\n",
       "  'province_acc': 'ปทุมธานี',\n",
       "  'link_url': 'https://www.77kaoded.com/news/panor-chompusri/2289999'},\n",
       " {'topic_acc': 'นายอำเภอเมืองลพบุรีห่วงใยประชาชนนำรณรงค์การลดอุบัติเหตุทางถนน',\n",
       "  'date_published': '20 พ.ค. 2022',\n",
       "  'province_acc': 'ลพบุรี',\n",
       "  'link_url': 'https://www.77kaoded.com/news/kritlopburi/2288832'},\n",
       " {'topic_acc': 'สงขลา รถตำรวจ สภ.ตะโหมด ประสบอุบัติเหตุชนราวสะพาน โชคดีแค่บาดเจ็บ',\n",
       "  'date_published': '16 พ.ค. 2022',\n",
       "  'province_acc': 'สงขลา',\n",
       "  'link_url': 'https://www.77kaoded.com/news/phumarin/2286624'},\n",
       " {'topic_acc': 'ตำรวจนครนายกตรวจเข้มหยุดยาว 4 วัน หวั่นเกิดอุบัติเหตุ และอาชญากรรม',\n",
       "  'date_published': '14 พ.ค. 2022',\n",
       "  'province_acc': 'นครนายก',\n",
       "  'link_url': 'https://www.77kaoded.com/news/ibaspea/2285903'},\n",
       " {'topic_acc': 'อุบัติเหตุสลด!! กระบะยางแตกพลิกคว่ำ เด็กหญิง 1 ขวบครึ่งดับ',\n",
       "  'date_published': '08 พ.ค. 2022',\n",
       "  'province_acc': 'สระแก้ว',\n",
       "  'link_url': 'https://www.77kaoded.com/news/thanapat/2283309'},\n",
       " {'topic_acc': 'พุ่งชนจังจัง!! กล้องหน้ารถจับภาพชัด อุบัติเหตุลุงขับรถ จยย.หลุดโค้ง เสยรถเก๋งดับคาที่',\n",
       "  'date_published': '07 พ.ค. 2022',\n",
       "  'province_acc': 'ปราจีนบุรี',\n",
       "  'link_url': 'https://www.77kaoded.com/news/thanapat/2282942'},\n",
       " {'topic_acc': 'โคราช!!! ยึดยาบ้า 8 ล้านเม็ด หลังได้รับแจ้งว่ามีอุบัติเหตุ',\n",
       "  'date_published': '02 พ.ค. 2022',\n",
       "  'province_acc': 'นครราชสีมา',\n",
       "  'link_url': 'https://www.77kaoded.com/news/vilailuk/2280945'},\n",
       " {'topic_acc': 'ญาติร่ำไห้ลั่น!! ถนนสุดอันตราย ร้องเรียนอุบัติเหตุซ้ำซาก ขูดถนนทำใหม่ จยย.เสียหลักถูกพ่วง 22 ล้อ ทับหัวตายคาที่',\n",
       "  'date_published': '29 เม.ย. 2022',\n",
       "  'province_acc': 'สระแก้ว',\n",
       "  'link_url': 'https://www.77kaoded.com/news/thanapat/2279475'},\n",
       " {'topic_acc': 'อุบัติเหตุ รถบรรทุกตู้คอนเทนเนอร์ เสียหลัก ทำตู้ฯหล่นบนถนน โชคดีไร้ผู้บาดเจ็บ',\n",
       "  'date_published': '23 เม.ย. 2022',\n",
       "  'province_acc': 'สงขลา',\n",
       "  'link_url': 'https://www.77kaoded.com/news/phumarin/2276598'},\n",
       " {'topic_acc': 'ผู้สมัครนายกเมืองพัทยา หมายเลข 2 ช่วยเหลือประชาชนประสบอุบัติเหตุ',\n",
       "  'date_published': '18 เม.ย. 2022',\n",
       "  'province_acc': 'ชลบุรี',\n",
       "  'link_url': 'https://www.77kaoded.com/news/sangk/2273594'},\n",
       " {'topic_acc': 'ฝนตกหนักเกิดอุบัติเหตุรถกระบะชนรถกระบะ เสียชีวิตคาที่ 1 บาดเจ็บอีก 1',\n",
       "  'date_published': '18 เม.ย. 2022',\n",
       "  'province_acc': 'พัทลุง',\n",
       "  'link_url': 'https://www.77kaoded.com/news/sakboon/2273487'},\n",
       " {'topic_acc': 'ครอบครัวร้องขอความเป็นธรรม ลูกตาย 3 ปี คดีไม่คืบ-ไม่เชื่อเป็นอุบัติเหตุ',\n",
       "  'date_published': '18 เม.ย. 2022',\n",
       "  'province_acc': 'ตรัง',\n",
       "  'link_url': 'https://www.77kaoded.com/news/mydear/2273370'},\n",
       " {'topic_acc': 'กระบี่-วันที่ 6 ช่วงสงกรานต์ มีอุบัติเหตุสะสม 28 ครั้งเสียชีวิต 2 ราย',\n",
       "  'date_published': '17 เม.ย. 2022',\n",
       "  'province_acc': 'กระบี่',\n",
       "  'link_url': 'https://www.77kaoded.com/news/pradit/2273125'},\n",
       " {'topic_acc': 'อุบัติเหตุสระแก้ว 6 วันตาย 7 ศพ แห่เดินทางกลับวันสุดท้าย',\n",
       "  'date_published': '17 เม.ย. 2022',\n",
       "  'province_acc': 'สระแก้ว',\n",
       "  'link_url': 'https://www.77kaoded.com/news/thanapat/2272871'},\n",
       " {'topic_acc': 'กระบี่-วันที่สี่ช่วงสงกรานต์ มีอุบัติเหตุสะสมตายแล้ว 2 ราย',\n",
       "  'date_published': '15 เม.ย. 2022',\n",
       "  'province_acc': 'กระบี่',\n",
       "  'link_url': 'https://www.77kaoded.com/news/pradit/2272081'},\n",
       " {'topic_acc': 'นครฯ – 3 วันสงกรานต์เมืองคอน เกิดอุบัติเหตุ 33 ครั้ง (สูงสุดของประเทศ) ตาย 1 เจ็บ 36 คน',\n",
       "  'date_published': '14 เม.ย. 2022',\n",
       "  'province_acc': 'นครศรีธรรมราช',\n",
       "  'link_url': 'https://www.77kaoded.com/news/kitdanai/2272063'},\n",
       " {'topic_acc': 'อุบัติเหตุเซ่นสงกรานต์ 7 วันอันตราย เสียชีวิต 2 ศพ จ.สระแก้ว',\n",
       "  'date_published': '14 เม.ย. 2022',\n",
       "  'province_acc': 'สระแก้ว',\n",
       "  'link_url': 'https://www.77kaoded.com/news/thanapat/2271994'},\n",
       " {'topic_acc': 'กระบี่-วันที่สามช่วงสงกรานต์ มีอุบัติเหตุสะสมแล้ว 10 ครั้ง',\n",
       "  'date_published': '14 เม.ย. 2022',\n",
       "  'province_acc': 'กระบี่',\n",
       "  'link_url': 'https://www.77kaoded.com/news/pradit/2271802'},\n",
       " {'topic_acc': 'กระบี่-วันที่สองช่วงสงกรานต์ มีอุบัติเหตุสะสมแล้ว 5 ครั้ง',\n",
       "  'date_published': '13 เม.ย. 2022',\n",
       "  'province_acc': 'กระบี่',\n",
       "  'link_url': 'https://www.77kaoded.com/news/pradit/2271428'},\n",
       " {'topic_acc': 'พัทลุง-ศูนย์อุบัติเหตุในช่วง 7 วันอันตราย เทศกาลสงกรานต์ สรุปผลวันแรก 2 ศพ -77ข่าวเด็ด',\n",
       "  'date_published': '12 เม.ย. 2022',\n",
       "  'province_acc': 'พัทลุง',\n",
       "  'link_url': 'https://www.77kaoded.com/news/sakboon/2271122'},\n",
       " {'topic_acc': 'เพชรบูรณ์-อุบัติเหตุดับรายแรก เซ่น 7 วันอันตรายช่วงสงกรานต์',\n",
       "  'date_published': '12 เม.ย. 2022',\n",
       "  'province_acc': 'เพชรบูรณ์',\n",
       "  'link_url': 'https://www.77kaoded.com/news/soontorn/2271055'},\n",
       " {'topic_acc': 'กระบี่-7 วันแรกช่วงสงกรานต์ มีอุบัติเหตุแล้ว 2 ครั้ง',\n",
       "  'date_published': '12 เม.ย. 2022',\n",
       "  'province_acc': 'กระบี่',\n",
       "  'link_url': 'https://www.77kaoded.com/news/pradit/2270933'},\n",
       " {'topic_acc': 'ชาวบ้านร้องขอสัณญานไฟจราจร หวังลดอุบัติเหตุและไม่ต้องไปกลับรถไกล',\n",
       "  'date_published': '11 เม.ย. 2022',\n",
       "  'province_acc': 'ราชบุรี',\n",
       "  'link_url': 'https://www.77kaoded.com/news/saichol/2270734'},\n",
       " {'topic_acc': 'ผู้ว่าพังงาปล่อยขบวนรณรงค์ 7 วันอันตรายคุมเข้มลดอุบัติเหตุทางถนนช่วงเทศกาลสงกรานต์ 2565',\n",
       "  'date_published': '11 เม.ย. 2022',\n",
       "  'province_acc': 'พังงา',\n",
       "  'link_url': 'https://www.77kaoded.com/news/anothai-ngandee/2270680'},\n",
       " {'topic_acc': 'น่าน เปิดศูนย์ป้องกันอุบัติเหตุช่วงสงกรานต์',\n",
       "  'date_published': '11 เม.ย. 2022',\n",
       "  'province_acc': 'น่าน',\n",
       "  'link_url': 'https://www.77kaoded.com/news/chairat/2270600'},\n",
       " {'topic_acc': 'กระบี่-เปิดศูนย์ปฏิบัติการร่วมป้องกันและลดอุบัติเหตุทางถนนและทางทะเลช่วงเทศกาลสงกรานต์ (มีคลิป)',\n",
       "  'date_published': '11 เม.ย. 2022',\n",
       "  'province_acc': 'กระบี่',\n",
       "  'link_url': 'https://www.77kaoded.com/news/pradit/2270586'},\n",
       " {'topic_acc': 'ลำปาง เปิดศูนย์รณรงค์ลดอุบัติเหตุทางถนนเฝ้าระวังโควิด-19ช่วงสงกรานต์',\n",
       "  'date_published': '11 เม.ย. 2022',\n",
       "  'province_acc': 'ลำปาง',\n",
       "  'link_url': 'https://www.77kaoded.com/news/prateep/2270459'},\n",
       " {'topic_acc': 'ชัยภูมิเร่งเปิดหอผู้ป่วยช่วงสงกรานต์รองรับแยกผู้ป่วยเพิ่มทั้งอุบัติเหตุ-โควิดยังพุ่ง!',\n",
       "  'date_published': '11 เม.ย. 2022',\n",
       "  'province_acc': 'ชัยภูมิ',\n",
       "  'link_url': 'https://www.77kaoded.com/news/mr-suttipongsettarangsri/2270381'},\n",
       " {'topic_acc': 'สกัดจยย.แต่งซิ่ง ป้องกันอุบัติเหตุ 7 วัน อันตราย',\n",
       "  'date_published': '11 เม.ย. 2022',\n",
       "  'province_acc': 'ชลบุรี',\n",
       "  'link_url': 'https://www.77kaoded.com/news/sangk/2270264'},\n",
       " {'topic_acc': 'ตำรวจช่าง สภ.สระบัว ช่วยซ่อมแซมถนนพัง เพื่อลดอุบัติเหตุช่วงเทศกาลสงกรานต์',\n",
       "  'date_published': '08 เม.ย. 2022',\n",
       "  'province_acc': 'ปราจีนบุรี',\n",
       "  'link_url': 'https://www.77kaoded.com/news/thanapat/2268856'},\n",
       " {'topic_acc': 'ซ้อมแผนอุบัติเหตุหมู่รับเทศกาลสงกรานต์ จ.สระแก้ว',\n",
       "  'date_published': '07 เม.ย. 2022',\n",
       "  'province_acc': 'สระแก้ว',\n",
       "  'link_url': 'https://www.77kaoded.com/news/thanapat/2268655'},\n",
       " {'topic_acc': 'ระนองเปิดศูนย์ปฏิบัติการร่วมป้องกันและลดอุบัติเหตุทางถนนช่วงเทศกาลสงกรานต์',\n",
       "  'date_published': '07 เม.ย. 2022',\n",
       "  'province_acc': 'ระนอง',\n",
       "  'link_url': 'https://www.77kaoded.com/news/bunluan/2268612'},\n",
       " {'topic_acc': 'ตร.มหาชัย ตั้งด่านแจกหมวกกันน็อก รณรงค์ลดอุบัติเหตุสงกรานต์',\n",
       "  'date_published': '07 เม.ย. 2022',\n",
       "  'province_acc': 'สมุทรสาคร',\n",
       "  'link_url': 'https://www.77kaoded.com/news/kittikorn/2268531'},\n",
       " {'topic_acc': 'สภ เมืองพัทยา เตรียมความพร้อมป้องกันอุบัติเหตุบนถนน',\n",
       "  'date_published': '07 เม.ย. 2022',\n",
       "  'province_acc': 'ชลบุรี',\n",
       "  'link_url': 'https://www.77kaoded.com/news/sangk/2268455'},\n",
       " {'topic_acc': 'AIS มอบประกันอุบัติเหตุฟรี ต้อนรับสงกรานต์ 65',\n",
       "  'date_published': '07 เม.ย. 2022',\n",
       "  'province_acc': 'กรุงเทพมหานคร',\n",
       "  'link_url': 'https://www.77kaoded.com/news/jenpasit/2268408'},\n",
       " {'topic_acc': 'นครนายก-อุบัติเหตุ รถกระบะชนกับรถกระบะ คู่กรณีหลบหนี (มีคลิป)',\n",
       "  'date_published': '26 มี.ค. 2022',\n",
       "  'province_acc': 'นครนายก',\n",
       "  'link_url': 'https://www.77kaoded.com/news/ibaspea/2261893'},\n",
       " {'topic_acc': 'พังงา-ไฮโซปลาวาฬ\\u200b ซิ่งเก๋งหรูเบนท์ลี่ย์ราคา\\u200bกว่า 30 ล้าน เกิดอุบัติเหตุ\\u200bไฟไหม้วอดทั้งคัน\\u200b\\xa0\\xa0\\xa0\\xa0',\n",
       "  'date_published': '25 มี.ค. 2022',\n",
       "  'province_acc': 'พังงา',\n",
       "  'link_url': 'https://www.77kaoded.com/news/anothai-ngandee/2261464'},\n",
       " {'topic_acc': '“คลองขลุง” จัดกิจกรรมรณรงค์ปลอดภัยทางข้าม ไร้อุบัติเหตุจุดจราจรหนาแน่น',\n",
       "  'date_published': '23 มี.ค. 2022',\n",
       "  'province_acc': 'กำแพงเพชร',\n",
       "  'link_url': 'https://www.77kaoded.com/news/jadsada/2260645'},\n",
       " {'topic_acc': 'คืนสลด อุบัติเหตุสองราย ตาย 3 ศพ',\n",
       "  'date_published': '20 มี.ค. 2022',\n",
       "  'province_acc': 'หนองบัวลำภู',\n",
       "  'link_url': 'https://www.77kaoded.com/news/wirote/2259133'},\n",
       " {'topic_acc': 'ระนอง รับนโยบาย เสริมสร้างประสิทธิภาพการป้องกันและลดอุบัติเหตุทางถนน',\n",
       "  'date_published': '16 มี.ค. 2022',\n",
       "  'province_acc': 'ระนอง',\n",
       "  'link_url': 'https://www.77kaoded.com/news/bunluan/2257521'},\n",
       " {'topic_acc': 'เครื่องบินเอฟ 16 ทอ. ประสบอุบัติเหตุระหว่างฝึกบิน นักบินปลอดภัย',\n",
       "  'date_published': '08 มี.ค. 2022',\n",
       "  'province_acc': 'กรุงเทพมหานคร',\n",
       "  'link_url': 'https://www.77kaoded.com/news/lakana/2253347'},\n",
       " {'topic_acc': 'เจ้าของคลิป เผยน้องใส่หน้ากากผีเป็นออทิสติกชอบแกล้งคนไม่มีอะไร แต่ก็เป็นห่วงกลัวเกิดอุบัติเหตุ',\n",
       "  'date_published': '07 มี.ค. 2022',\n",
       "  'province_acc': 'สมุทรปราการ',\n",
       "  'link_url': 'https://www.77kaoded.com/news/diawkongsin/2252970'},\n",
       " {'topic_acc': 'นายกเทศมนตรีนครรังสิตปรับปรุงทางม้าลายลดอุบัติเหตุหน้าโรงเรียน',\n",
       "  'date_published': '27 ก.พ. 2022',\n",
       "  'province_acc': 'ปทุมธานี',\n",
       "  'link_url': 'https://www.77kaoded.com/news/panor-chompusri/2249530'},\n",
       " {'topic_acc': 'ชื่นชม ครอบครัวหนุ่มประสบอุบัติเหตุ บริจาคหัวใจต่อลมหายใจผู้ป่วย',\n",
       "  'date_published': '25 ก.พ. 2022',\n",
       "  'province_acc': 'พิษณุโลก',\n",
       "  'link_url': 'https://www.77kaoded.com/news/bigmong/2248413'},\n",
       " {'topic_acc': 'ปทุมธานี รณรงค์ลดอุบัติเหตุบริเวณทางข้าม ปรับปรุงทาสีใหม่ให้มีความเด่นชัด สร้างความปลอดภัยทางถนน',\n",
       "  'date_published': '23 ก.พ. 2022',\n",
       "  'province_acc': 'ปทุมธานี',\n",
       "  'link_url': 'https://www.77kaoded.com/news/panor-chompusri/2247152'},\n",
       " {'topic_acc': 'สมุทรสาคร รณรงค์ผู้ขับขี่หยุดให้คนข้ามทางม้าลาย ลดอุบัติเหตุ',\n",
       "  'date_published': '22 ก.พ. 2022',\n",
       "  'province_acc': 'สมุทรสาคร',\n",
       "  'link_url': 'https://www.77kaoded.com/news/kittikorn/2246887'},\n",
       " {'topic_acc': 'กาฬสินธุ์รณรงค์ลดอุบัติเหตุบริเวณทางข้าม',\n",
       "  'date_published': '22 ก.พ. 2022',\n",
       "  'province_acc': 'กาฬสินธุ์',\n",
       "  'link_url': 'https://www.77kaoded.com/news/kalasin1/2246708'},\n",
       " {'topic_acc': 'ระนองเปิดกิจกรรม “พาน้องข้ามถนน” เริ่มสัปดาห์รณรงค์เพื่อลดอุบัติเหตุทางข้าม',\n",
       "  'date_published': '21 ก.พ. 2022',\n",
       "  'province_acc': 'ระนอง',\n",
       "  'link_url': 'https://www.77kaoded.com/news/bunluan/2246320'},\n",
       " {'topic_acc': 'ลำปาง Kick off รณรงค์ลดอุบัติเหตุบริเวณทางข้าม สร้างจิตสำนึกการใช้รถใช้ถนน',\n",
       "  'date_published': '21 ก.พ. 2022',\n",
       "  'province_acc': 'ลำปาง',\n",
       "  'link_url': 'https://www.77kaoded.com/news/prateep/2246110'},\n",
       " {'topic_acc': 'แม่-ลูก จยย.ล้มทับแม่ช่วยเหลือตัวเองไม่ได้ ช่วงเวลาเร่งด่วนหวั่นอุบัติเหตุซ้ำ ชาวบ้านประสานกู้ภัยช่วย',\n",
       "  'date_published': '19 ก.พ. 2022',\n",
       "  'province_acc': 'ตรัง',\n",
       "  'link_url': 'https://www.77kaoded.com/news/mydear/2245187'},\n",
       " {'topic_acc': 'อุบัติเหตุหนุ่มใหญ่พ่อค้าขายของประจำโรงงาน รถเสียหลักหลุดโค้งหวิดสิ้นชื่อ',\n",
       "  'date_published': '13 ก.พ. 2022',\n",
       "  'province_acc': 'ปราจีนบุรี',\n",
       "  'link_url': 'https://www.77kaoded.com/news/thanapat/2241992'},\n",
       " {'topic_acc': 'อุบัติเหตุรถเก๋งเบรกไม่ทัน ชนท้ายรถบรรทุกไข่พลิกคว่ำไข่กระจายเสียหายทั้งคัน',\n",
       "  'date_published': '11 ก.พ. 2022',\n",
       "  'province_acc': 'ปราจีนบุรี',\n",
       "  'link_url': 'https://www.77kaoded.com/news/thanapat/2240755'},\n",
       " {'topic_acc': 'อุบัติเหตุรถเฉี่ยวชนนักเรียนได้รับบาดเจ็บ จ.ปราจีนบุรี',\n",
       "  'date_published': '09 ก.พ. 2022',\n",
       "  'province_acc': 'ปราจีนบุรี',\n",
       "  'link_url': 'https://www.77kaoded.com/news/thanapat/2239729'},\n",
       " {'topic_acc': 'ทม.หัวหิน ทาสีทางม้าลายแบบใหม่สีขาว-แดง เห็นเด่นชัด ป้องกันอุบัติเหตุ',\n",
       "  'date_published': '08 ก.พ. 2022',\n",
       "  'province_acc': 'ประจวบคีรีขันธ์',\n",
       "  'link_url': 'https://www.77kaoded.com/news/prachuppost/2239432'},\n",
       " {'topic_acc': 'ประมูลทะเบียนเลขสวย จ.สระแก้ว นํารายได้ช่วยเหลือผู้พิการจากอุบัติเหตุและการใช้รถใช้ถนนไม่คึกคัก',\n",
       "  'date_published': '05 ก.พ. 2022',\n",
       "  'province_acc': 'สระแก้ว',\n",
       "  'link_url': 'https://www.77kaoded.com/news/thanapat/2237981'},\n",
       " {'topic_acc': 'สาวร้องเสียงหลงรถพ่วงบรรทุกไม้ซิ่งแหวกเลนขวาไม้ตกใส่รถหวิดเกิดอุบัติเหตุ',\n",
       "  'date_published': '04 ก.พ. 2022',\n",
       "  'province_acc': 'สมุทรปราการ',\n",
       "  'link_url': 'https://www.77kaoded.com/news/diawkongsin/2237305'},\n",
       " {'topic_acc': 'ปทุมธานี ซ้อมใหญ่แผนป้องกันอุบัติเหตุทางม้าลาย สมจริงจนประชาชนตกใจต้องหยุดรถดู',\n",
       "  'date_published': '01 ก.พ. 2022',\n",
       "  'province_acc': 'ปทุมธานี',\n",
       "  'link_url': 'https://www.77kaoded.com/news/panor-chompusri/2236135'},\n",
       " {'topic_acc': 'อุบัติเหตุรถยนต์เสียหลักตกถนนรับวันตรุษจีน จ.ปราจีนบุรี',\n",
       "  'date_published': '01 ก.พ. 2022',\n",
       "  'province_acc': 'ปราจีนบุรี',\n",
       "  'link_url': 'https://www.77kaoded.com/news/thanapat/2235937'},\n",
       " {'topic_acc': 'ตำรวจภูธรภาค 3 มอบโล่ประกาศเกียรติคุณ ให้แก่ ภาคีเครือข่ายและหน่วยงานในสังกัดที่มีผลการปฏิบัติงานดีเด่น ด้านการ ป้องกันและลดอุบัติเหตุทางถนน ในห้วงเทศกาลปีใหม่ พ.ศ.2565',\n",
       "  'date_published': '26 ม.ค. 2022',\n",
       "  'province_acc': 'นครราชสีมา',\n",
       "  'link_url': 'https://www.77kaoded.com/news/mssantiwon/2233019'},\n",
       " {'topic_acc': 'ลำปางเร่งปรับปรุงทาสีเส้นทางม้าลายจุดเสี่ยง หวังลดอุบัติเหตุทางถนน',\n",
       "  'date_published': '25 ม.ค. 2022',\n",
       "  'province_acc': 'ลำปาง',\n",
       "  'link_url': 'https://www.77kaoded.com/news/prateepnuntapap/2232648'},\n",
       " {'topic_acc': 'คุณยายวัย 67 ปีเช้าบวชลูกชาย บ่ายหลานชายประสบอุบัติเหตุเสียชีวิต เช้าวันรุ่งขึ้นคุณยายตรอมใจดับตาม',\n",
       "  'date_published': '21 ม.ค. 2022',\n",
       "  'province_acc': 'นนทบุรี',\n",
       "  'link_url': 'https://www.77kaoded.com/news/boonchoo-poungmala/2230755'},\n",
       " {'topic_acc': 'ถึงฤดูกาลลื่นไถล อุบัติเหตุระดมคว่ำยามเช้าต่อเนื่องบนทางสายเดิมที่แก้ไม่ตก',\n",
       "  'date_published': '21 ม.ค. 2022',\n",
       "  'province_acc': 'ฉะเชิงเทรา',\n",
       "  'link_url': 'https://www.77kaoded.com/news/sontanaporn/2230586'},\n",
       " {'topic_acc': 'ดวงถึงฆาต!! “นายกคิงส์” ทรงยศ เทียนทอง อดีตนายก อบจ.สระแก้ว ถูกรถชนเสียชีวิตหลังรถเกิดอุบัติเหตุ',\n",
       "  'date_published': '20 ม.ค. 2022',\n",
       "  'province_acc': 'สระแก้ว',\n",
       "  'link_url': 'https://www.77kaoded.com/news/thanapat/2229842'},\n",
       " {'topic_acc': 'อุบัติเหตุรถพ่วง 18 ล้อ ซิ่งฝ่าไฟแดงชน 10 ล้อ สนั่นแยกสระขวัญหลายคัน',\n",
       "  'date_published': '16 ม.ค. 2022',\n",
       "  'province_acc': 'สระแก้ว',\n",
       "  'link_url': 'https://www.77kaoded.com/news/thanapat/2227637'},\n",
       " {'topic_acc': 'เพชรบูรณ์-เกิดอุบัติเหตุซ้อน รถพยาบาลฉุกเฉิน ชนรถสายตรวจตร. กลางแยกยูเทิร์น เจ็บระนาว 7 ราย (ชมคลิป)',\n",
       "  'date_published': '14 ม.ค. 2022',\n",
       "  'province_acc': 'เพชรบูรณ์',\n",
       "  'link_url': 'https://www.77kaoded.com/news/soontorn/2226908'},\n",
       " {'topic_acc': 'ชายอายุราว 50 ปี เกิดอุบัติเหตุรถกระบะตกในร่องถนน ติดอยู่ในรถออกไม่ได้',\n",
       "  'date_published': '14 ม.ค. 2022',\n",
       "  'province_acc': 'เชียงราย',\n",
       "  'link_url': 'https://www.77kaoded.com/news/big/2226700'},\n",
       " {'topic_acc': '(ชมคลิป) ยูเทิร์นวัดใจ เจ็บตายบ่อย เกิดอุบัติเหตุอีกแล้ว\\xa0',\n",
       "  'date_published': '10 ม.ค. 2022',\n",
       "  'province_acc': 'เชียงราย',\n",
       "  'link_url': 'https://www.77kaoded.com/news/big/2224781'},\n",
       " {'topic_acc': 'พลิกตะแคงหวิดดับ อุบัติเหตุรถยนต์ชนสนั่น 3 คัน พังยับ',\n",
       "  'date_published': '09 ม.ค. 2022',\n",
       "  'province_acc': 'ปราจีนบุรี',\n",
       "  'link_url': 'https://www.77kaoded.com/news/thanapat/2224141'},\n",
       " {'topic_acc': 'เกิดอุบัติเหตุรถบรรทุกสารเคมีพลิกคว่ำที่ จ.ปราจีนบุรี',\n",
       "  'date_published': '07 ม.ค. 2022',\n",
       "  'province_acc': 'ปราจีนบุรี',\n",
       "  'link_url': 'https://www.77kaoded.com/news/thanapat/2223027'}]"
      ]
     },
     "execution_count": 7,
     "metadata": {},
     "output_type": "execute_result"
    }
   ],
   "source": [
    "data = json.load(fp)\n",
    "data"
   ]
  },
  {
   "cell_type": "markdown",
   "id": "e9fb8cb5-9ee3-4753-a5eb-b7988d18eba9",
   "metadata": {},
   "source": [
    "# NER (NameEntitiesRegcognition)"
   ]
  },
  {
   "cell_type": "code",
   "execution_count": 8,
   "id": "8ffb1fa0-51f7-42d3-9ce5-5df770724745",
   "metadata": {},
   "outputs": [],
   "source": [
    "from transformers import AutoTokenizer, AutoModelForTokenClassification\n",
    "from transformers import pipeline"
   ]
  },
  {
   "cell_type": "code",
   "execution_count": 9,
   "id": "121529aa-ec03-445a-b769-e11bfcf710e6",
   "metadata": {},
   "outputs": [
    {
     "data": {
      "application/vnd.jupyter.widget-view+json": {
       "model_id": "7b97e23c9c6e460aa1ba232cb3d404de",
       "version_major": 2,
       "version_minor": 0
      },
      "text/plain": [
       "Downloading:   0%|          | 0.00/211 [00:00<?, ?B/s]"
      ]
     },
     "metadata": {},
     "output_type": "display_data"
    },
    {
     "data": {
      "application/vnd.jupyter.widget-view+json": {
       "model_id": "d99dea3cc3744ed697f10b5070ed6ab1",
       "version_major": 2,
       "version_minor": 0
      },
      "text/plain": [
       "Downloading:   0%|          | 0.00/980 [00:00<?, ?B/s]"
      ]
     },
     "metadata": {},
     "output_type": "display_data"
    },
    {
     "data": {
      "application/vnd.jupyter.widget-view+json": {
       "model_id": "77a7c9244fbf4f9f87c057be039b9b82",
       "version_major": 2,
       "version_minor": 0
      },
      "text/plain": [
       "Downloading:   0%|          | 0.00/5.07M [00:00<?, ?B/s]"
      ]
     },
     "metadata": {},
     "output_type": "display_data"
    },
    {
     "data": {
      "application/vnd.jupyter.widget-view+json": {
       "model_id": "04504511ff4043c68f13a7c152a21b86",
       "version_major": 2,
       "version_minor": 0
      },
      "text/plain": [
       "Downloading:   0%|          | 0.00/150 [00:00<?, ?B/s]"
      ]
     },
     "metadata": {},
     "output_type": "display_data"
    },
    {
     "data": {
      "application/vnd.jupyter.widget-view+json": {
       "model_id": "4e25d37f23b843afa26e3d5ebbfa8c01",
       "version_major": 2,
       "version_minor": 0
      },
      "text/plain": [
       "Downloading:   0%|          | 0.00/1.11G [00:00<?, ?B/s]"
      ]
     },
     "metadata": {},
     "output_type": "display_data"
    }
   ],
   "source": [
    "tokenizer = AutoTokenizer.from_pretrained(\"Davlan/xlm-roberta-base-ner-hrl\")\n",
    "model = AutoModelForTokenClassification.from_pretrained(\"Davlan/xlm-roberta-base-ner-hrl\")\n",
    "nlp = pipeline(\"ner\", model=model, tokenizer=tokenizer)"
   ]
  },
  {
   "cell_type": "code",
   "execution_count": 10,
   "id": "53ab33a9-45d3-4f15-92be-46ac9509e932",
   "metadata": {},
   "outputs": [
    {
     "name": "stdout",
     "output_type": "stream",
     "text": [
      "[{'entity': 'B-PER', 'score': 0.9993357, 'index': 4, 'word': '▁Wolfgang', 'start': 10, 'end': 19}, {'entity': 'B-LOC', 'score': 0.9990395, 'index': 9, 'word': '▁Berlin', 'start': 33, 'end': 40}]\n"
     ]
    }
   ],
   "source": [
    "example = \"My name is Wolfgang and I live in Berlin\"\n",
    "\n",
    "ner_results = nlp(example)\n",
    "print(ner_results)"
   ]
  },
  {
   "cell_type": "code",
   "execution_count": 15,
   "id": "3fc804b3-8d22-4742-b890-465e3f4e1264",
   "metadata": {},
   "outputs": [],
   "source": [
    "def post_process(preds):\n",
    "    data = []\n",
    "    for i in range(len(preds)): \n",
    "        a = preds[i]\n",
    "        text = a.get('word')\n",
    "        for j in range(i, len(preds)):\n",
    "            b = preds[j]\n",
    "            if b.get('start') == a.get('end'):\n",
    "                text += b.get('word')\n",
    "                a = b\n",
    "        data.append({\n",
    "            'type': a.get('entity'),\n",
    "            'text': text\n",
    "        })\n",
    "    tmp = []\n",
    "    for elm in data:\n",
    "        text = elm.get('text')\n",
    "        if bool(re.match(\"[ก-๛]|▁\", text)):\n",
    "            elm.update({'text': text.replace('▁', ' ')})\n",
    "            tmp.append(elm)\n",
    "    return tmp"
   ]
  },
  {
   "cell_type": "code",
   "execution_count": 19,
   "id": "bba89970-3be9-4390-9273-35cd5479f41d",
   "metadata": {},
   "outputs": [
    {
     "data": {
      "text/plain": [
       "'นครนายก-อุบัติเหตุรถเก๋งพุ่งชน รถจยย. คนขี่รถจยย. ลอยไปกระแทกเสาฟ้า ดับคาที่'"
      ]
     },
     "execution_count": 19,
     "metadata": {},
     "output_type": "execute_result"
    }
   ],
   "source": [
    "text = data[10]['topic_acc']\n",
    "text"
   ]
  },
  {
   "cell_type": "code",
   "execution_count": 20,
   "id": "cde190f7-a044-4043-8fde-f68b98107985",
   "metadata": {},
   "outputs": [],
   "source": [
    "import re"
   ]
  },
  {
   "cell_type": "code",
   "execution_count": 21,
   "id": "2c1b7513-23bb-4b8f-ad99-07bb98bdf8d4",
   "metadata": {},
   "outputs": [
    {
     "data": {
      "text/plain": [
       "[{'entity': 'B-LOC',\n",
       "  'score': 0.9997987,\n",
       "  'index': 1,\n",
       "  'word': '▁',\n",
       "  'start': 0,\n",
       "  'end': 1},\n",
       " {'entity': 'B-LOC',\n",
       "  'score': 0.9985915,\n",
       "  'index': 2,\n",
       "  'word': 'นคร',\n",
       "  'start': 0,\n",
       "  'end': 3},\n",
       " {'entity': 'I-LOC',\n",
       "  'score': 0.99967444,\n",
       "  'index': 3,\n",
       "  'word': 'นาย',\n",
       "  'start': 3,\n",
       "  'end': 6},\n",
       " {'entity': 'I-LOC',\n",
       "  'score': 0.99967825,\n",
       "  'index': 4,\n",
       "  'word': 'ก',\n",
       "  'start': 6,\n",
       "  'end': 7}]"
      ]
     },
     "execution_count": 21,
     "metadata": {},
     "output_type": "execute_result"
    }
   ],
   "source": [
    "output = nlp(text)\n",
    "output"
   ]
  },
  {
   "cell_type": "code",
   "execution_count": 22,
   "id": "89460b92-6e72-4d2f-8dea-5a89318ab321",
   "metadata": {},
   "outputs": [
    {
     "data": {
      "text/plain": [
       "[{'type': 'B-LOC', 'text': ' '},\n",
       " {'type': 'I-LOC', 'text': 'นครนายก'},\n",
       " {'type': 'I-LOC', 'text': 'นายก'},\n",
       " {'type': 'I-LOC', 'text': 'ก'}]"
      ]
     },
     "execution_count": 22,
     "metadata": {},
     "output_type": "execute_result"
    }
   ],
   "source": [
    "post_process(output)"
   ]
  },
  {
   "cell_type": "markdown",
   "id": "43ceb9bc-a420-486c-af9b-ff4062ba7615",
   "metadata": {},
   "source": [
    "# Process news to spo"
   ]
  },
  {
   "cell_type": "code",
   "execution_count": 23,
   "id": "f970701d-14e9-4908-a9e8-ff2fdf9644ef",
   "metadata": {},
   "outputs": [
    {
     "data": {
      "application/vnd.jupyter.widget-view+json": {
       "model_id": "132ba1817f7744958e1ab0771a18f480",
       "version_major": 2,
       "version_minor": 0
      },
      "text/plain": [
       "  0%|          | 0/110 [00:00<?, ?it/s]"
      ]
     },
     "metadata": {},
     "output_type": "display_data"
    }
   ],
   "source": [
    "spo = []\n",
    "for kaoded in tqdm(data):\n",
    "    topic_acc = kaoded.get('topic_acc') \n",
    "    if topic_acc == None:\n",
    "        continue\n",
    "    spo.append({\n",
    "        'topic_acc': kaoded.get('topic_acc', \"\"),\n",
    "        'date_published': kaoded.get('date_published', \"\"),\n",
    "        'province_acc': kaoded.get('province_acc', \"\"),\n",
    "        'link_url': kaoded.get('link_url', \"\"),\n",
    "        })"
   ]
  },
  {
   "cell_type": "code",
   "execution_count": 24,
   "id": "aa26bad2-539b-42fc-819d-0cd6310190f0",
   "metadata": {},
   "outputs": [
    {
     "data": {
      "text/html": [
       "<div>\n",
       "<style scoped>\n",
       "    .dataframe tbody tr th:only-of-type {\n",
       "        vertical-align: middle;\n",
       "    }\n",
       "\n",
       "    .dataframe tbody tr th {\n",
       "        vertical-align: top;\n",
       "    }\n",
       "\n",
       "    .dataframe thead th {\n",
       "        text-align: right;\n",
       "    }\n",
       "</style>\n",
       "<table border=\"1\" class=\"dataframe\">\n",
       "  <thead>\n",
       "    <tr style=\"text-align: right;\">\n",
       "      <th></th>\n",
       "      <th>topic_acc</th>\n",
       "      <th>date_published</th>\n",
       "      <th>province_acc</th>\n",
       "      <th>link_url</th>\n",
       "    </tr>\n",
       "  </thead>\n",
       "  <tbody>\n",
       "    <tr>\n",
       "      <th>0</th>\n",
       "      <td>สงขลา ปาดังเบซาร์-ท่าข่อย ถนนพังเป็นหลุมใหญ่ เ...</td>\n",
       "      <td>07 พ.ย. 2022</td>\n",
       "      <td>สงขลา</td>\n",
       "      <td>https://www.77kaoded.com/news/phumarin/2365601</td>\n",
       "    </tr>\n",
       "    <tr>\n",
       "      <th>1</th>\n",
       "      <td>เพชรบูรณ์-ผญบ.ทับเบิกเบื่อทนฟัง 9 ปีอยู่ในเขตป...</td>\n",
       "      <td>02 พ.ย. 2022</td>\n",
       "      <td>เพชรบูรณ์</td>\n",
       "      <td>https://www.77kaoded.com/news/soontorn/2362961</td>\n",
       "    </tr>\n",
       "    <tr>\n",
       "      <th>2</th>\n",
       "      <td>อุบัติเหตุสยอง!! ปิคอัพชน จยย.พ่วงข้างอย่างจัง...</td>\n",
       "      <td>29 ต.ค. 2022</td>\n",
       "      <td>สระแก้ว</td>\n",
       "      <td>https://www.77kaoded.com/news/thanapat/2361453</td>\n",
       "    </tr>\n",
       "    <tr>\n",
       "      <th>3</th>\n",
       "      <td>ลำปางรณรงค์ลดอุบัติเหตุทางข้ามเคร่งครัดบังคับใ...</td>\n",
       "      <td>26 ต.ค. 2022</td>\n",
       "      <td>ลำปาง</td>\n",
       "      <td>https://www.77kaoded.com/news/prateep/2360276</td>\n",
       "    </tr>\n",
       "    <tr>\n",
       "      <th>4</th>\n",
       "      <td>นครนายก- (มีคลิป) อุบัติเหตุรถยนต์เสียหลักพุ่ง...</td>\n",
       "      <td>09 ต.ค. 2022</td>\n",
       "      <td>นครนายก</td>\n",
       "      <td>https://www.77kaoded.com/news/ibaspea/2352400</td>\n",
       "    </tr>\n",
       "    <tr>\n",
       "      <th>...</th>\n",
       "      <td>...</td>\n",
       "      <td>...</td>\n",
       "      <td>...</td>\n",
       "      <td>...</td>\n",
       "    </tr>\n",
       "    <tr>\n",
       "      <th>105</th>\n",
       "      <td>เพชรบูรณ์-เกิดอุบัติเหตุซ้อน รถพยาบาลฉุกเฉิน ช...</td>\n",
       "      <td>14 ม.ค. 2022</td>\n",
       "      <td>เพชรบูรณ์</td>\n",
       "      <td>https://www.77kaoded.com/news/soontorn/2226908</td>\n",
       "    </tr>\n",
       "    <tr>\n",
       "      <th>106</th>\n",
       "      <td>ชายอายุราว 50 ปี เกิดอุบัติเหตุรถกระบะตกในร่อง...</td>\n",
       "      <td>14 ม.ค. 2022</td>\n",
       "      <td>เชียงราย</td>\n",
       "      <td>https://www.77kaoded.com/news/big/2226700</td>\n",
       "    </tr>\n",
       "    <tr>\n",
       "      <th>107</th>\n",
       "      <td>(ชมคลิป) ยูเทิร์นวัดใจ เจ็บตายบ่อย เกิดอุบัติเ...</td>\n",
       "      <td>10 ม.ค. 2022</td>\n",
       "      <td>เชียงราย</td>\n",
       "      <td>https://www.77kaoded.com/news/big/2224781</td>\n",
       "    </tr>\n",
       "    <tr>\n",
       "      <th>108</th>\n",
       "      <td>พลิกตะแคงหวิดดับ อุบัติเหตุรถยนต์ชนสนั่น 3 คัน...</td>\n",
       "      <td>09 ม.ค. 2022</td>\n",
       "      <td>ปราจีนบุรี</td>\n",
       "      <td>https://www.77kaoded.com/news/thanapat/2224141</td>\n",
       "    </tr>\n",
       "    <tr>\n",
       "      <th>109</th>\n",
       "      <td>เกิดอุบัติเหตุรถบรรทุกสารเคมีพลิกคว่ำที่ จ.ปรา...</td>\n",
       "      <td>07 ม.ค. 2022</td>\n",
       "      <td>ปราจีนบุรี</td>\n",
       "      <td>https://www.77kaoded.com/news/thanapat/2223027</td>\n",
       "    </tr>\n",
       "  </tbody>\n",
       "</table>\n",
       "<p>110 rows × 4 columns</p>\n",
       "</div>"
      ],
      "text/plain": [
       "                                             topic_acc date_published  \\\n",
       "0    สงขลา ปาดังเบซาร์-ท่าข่อย ถนนพังเป็นหลุมใหญ่ เ...   07 พ.ย. 2022   \n",
       "1    เพชรบูรณ์-ผญบ.ทับเบิกเบื่อทนฟัง 9 ปีอยู่ในเขตป...   02 พ.ย. 2022   \n",
       "2    อุบัติเหตุสยอง!! ปิคอัพชน จยย.พ่วงข้างอย่างจัง...   29 ต.ค. 2022   \n",
       "3    ลำปางรณรงค์ลดอุบัติเหตุทางข้ามเคร่งครัดบังคับใ...   26 ต.ค. 2022   \n",
       "4    นครนายก- (มีคลิป) อุบัติเหตุรถยนต์เสียหลักพุ่ง...   09 ต.ค. 2022   \n",
       "..                                                 ...            ...   \n",
       "105  เพชรบูรณ์-เกิดอุบัติเหตุซ้อน รถพยาบาลฉุกเฉิน ช...   14 ม.ค. 2022   \n",
       "106  ชายอายุราว 50 ปี เกิดอุบัติเหตุรถกระบะตกในร่อง...   14 ม.ค. 2022   \n",
       "107  (ชมคลิป) ยูเทิร์นวัดใจ เจ็บตายบ่อย เกิดอุบัติเ...   10 ม.ค. 2022   \n",
       "108  พลิกตะแคงหวิดดับ อุบัติเหตุรถยนต์ชนสนั่น 3 คัน...   09 ม.ค. 2022   \n",
       "109  เกิดอุบัติเหตุรถบรรทุกสารเคมีพลิกคว่ำที่ จ.ปรา...   07 ม.ค. 2022   \n",
       "\n",
       "    province_acc                                        link_url  \n",
       "0          สงขลา  https://www.77kaoded.com/news/phumarin/2365601  \n",
       "1      เพชรบูรณ์  https://www.77kaoded.com/news/soontorn/2362961  \n",
       "2        สระแก้ว  https://www.77kaoded.com/news/thanapat/2361453  \n",
       "3          ลำปาง   https://www.77kaoded.com/news/prateep/2360276  \n",
       "4        นครนายก   https://www.77kaoded.com/news/ibaspea/2352400  \n",
       "..           ...                                             ...  \n",
       "105    เพชรบูรณ์  https://www.77kaoded.com/news/soontorn/2226908  \n",
       "106     เชียงราย       https://www.77kaoded.com/news/big/2226700  \n",
       "107     เชียงราย       https://www.77kaoded.com/news/big/2224781  \n",
       "108   ปราจีนบุรี  https://www.77kaoded.com/news/thanapat/2224141  \n",
       "109   ปราจีนบุรี  https://www.77kaoded.com/news/thanapat/2223027  \n",
       "\n",
       "[110 rows x 4 columns]"
      ]
     },
     "execution_count": 24,
     "metadata": {},
     "output_type": "execute_result"
    }
   ],
   "source": [
    "df = pd.DataFrame(spo)\n",
    "df"
   ]
  },
  {
   "cell_type": "code",
   "execution_count": 25,
   "id": "01f0f346-ae7e-449f-b60a-7ede16ed9a0e",
   "metadata": {},
   "outputs": [
    {
     "data": {
      "text/plain": [
       "{'sucess': True,\n",
       " 'file_id': 513,\n",
       " 'path': 'suphawadi/DSI310-12/processData/week03.parquet',\n",
       " 'lineage': True}"
      ]
     },
     "execution_count": 25,
     "metadata": {},
     "output_type": "execute_result"
    }
   ],
   "source": [
    "datanode.write(df=df, directory=dir_process_id, name=\"week03\", profiling=True, lineage=[datanode.get_file_id(directory_id=dir_raw_id, name='kaoded.json')])"
   ]
  },
  {
   "cell_type": "code",
   "execution_count": null,
   "id": "2f561e97-ae25-49f8-8a1b-22f923641b1f",
   "metadata": {},
   "outputs": [],
   "source": []
  }
 ],
 "metadata": {
  "kernelspec": {
   "display_name": "Python 3 (ipykernel)",
   "language": "python",
   "name": "python3"
  },
  "language_info": {
   "codemirror_mode": {
    "name": "ipython",
    "version": 3
   },
   "file_extension": ".py",
   "mimetype": "text/x-python",
   "name": "python",
   "nbconvert_exporter": "python",
   "pygments_lexer": "ipython3",
   "version": "3.10.5"
  }
 },
 "nbformat": 4,
 "nbformat_minor": 5
}
