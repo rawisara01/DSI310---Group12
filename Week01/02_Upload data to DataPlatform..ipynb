{
 "cells": [
  {
   "cell_type": "markdown",
   "id": "bf064231-0b0f-4957-b066-038aec10dab5",
   "metadata": {},
   "source": [
    "# Upload data to DataPlatform"
   ]
  },
  {
   "cell_type": "code",
   "execution_count": null,
   "id": "9fc08924-640f-456b-8247-7e6d18a1a8b5",
   "metadata": {},
   "outputs": [],
   "source": [
    "from dsmlibrary.datanode import DataNode"
   ]
  },
  {
   "cell_type": "code",
   "execution_count": null,
   "id": "9172e517-0a4e-4574-9d59-e3b44db7626a",
   "metadata": {},
   "outputs": [],
   "source": [
    "dir_raw_id = 64"
   ]
  },
  {
   "cell_type": "code",
   "execution_count": null,
   "id": "5b7aa67c-0e99-4eb3-9f40-6ba35d68cb51",
   "metadata": {},
   "outputs": [],
   "source": [
    "datanode = DataNode()"
   ]
  },
  {
   "cell_type": "code",
   "execution_count": null,
   "id": "ca94d696-4d94-428c-9845-ba7bff82ba56",
   "metadata": {},
   "outputs": [],
   "source": [
    "datanode.upload_file(directory_id=dir_raw_id, file_path='amarin.json')"
   ]
  }
 ],
 "metadata": {
  "kernelspec": {
   "display_name": "Python 3 (ipykernel)",
   "language": "python",
   "name": "python3"
  },
  "language_info": {
   "codemirror_mode": {
    "name": "ipython",
    "version": 3
   },
   "file_extension": ".py",
   "mimetype": "text/x-python",
   "name": "python",
   "nbconvert_exporter": "python",
   "pygments_lexer": "ipython3",
   "version": "3.10.5"
  }
 },
 "nbformat": 4,
 "nbformat_minor": 5
}
