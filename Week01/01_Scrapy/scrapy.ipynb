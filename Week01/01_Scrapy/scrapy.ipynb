{
 "cells": [
  {
   "cell_type": "code",
   "execution_count": null,
   "id": "ddbe4239-3391-4eb3-a925-976ae295ef07",
   "metadata": {},
   "outputs": [],
   "source": [
    "from gc import callbacks\n",
    "import scrapy\n",
    "import json\n",
    "from scrapy.spiders import CrawlSpider, Rule\n",
    "from scrapy.linkextractors import LinkExtractor\n",
    "from scrapy.crawler import CrawlerProcess"
   ]
  },
  {
   "cell_type": "code",
   "execution_count": null,
   "id": "8ed3b0fe-7894-42fc-8b88-80b01f69d31c",
   "metadata": {},
   "outputs": [],
   "source": [
    "class linkSpider(CrawlSpider):\n",
    "    name = \"link\"\n",
    "    allowed_domains = ['amarintv.com']\n",
    "    start_urls = ['https://www.amarintv.com/tags/%E0%B8%AD%E0%B8%B8%E0%B8%9A%E0%B8%B1%E0%B8%95%E0%B8%B4%E0%B9%80%E0%B8%AB%E0%B8%95%E0%B8%B8',]\n",
    "\n",
    "    rules = (\n",
    "        Rule(LinkExtractor(allow='tags/%E0%B8%AD%E0%B8%B8%E0%B8%9A%E0%B8%B1%E0%B8%95%E0%B8%B4%E0%B9%80%E0%B8%AB%E0%B8%95%E0%B8%B8')),\n",
    "        Rule(LinkExtractor(allow='detail'), callback='parse_links')\n",
    "    )\n",
    "    \n",
    "    def parse_links(self, response):\n",
    "        yield{\n",
    "            'Head' : response.css('div.head h1::text').get(),\n",
    "            'Topic' : response.css('div.body p::text').get(),\n",
    "            'date' : response.css('div.option::text').get(),\n",
    "            'tags' : response.css('strong.tag a::text').get(),\n",
    "        }"
   ]
  },
  {
   "cell_type": "code",
   "execution_count": null,
   "id": "60ee49e4-ca54-433d-999e-118f63f9d151",
   "metadata": {},
   "outputs": [],
   "source": [
    "process = CrawlerProcess(settings={\n",
    "    \"FEED\": {\n",
    "        \"amarin.json\": {\"format\": \"json\"},\n",
    "    }\n",
    "})\n",
    "process.crawl(linkSpider)\n",
    "process.start()"
   ]
  },
  {
   "cell_type": "code",
   "execution_count": null,
   "id": "962feb63-aff9-4e48-b1de-6d7a71cc9e0b",
   "metadata": {},
   "outputs": [],
   "source": [
    "scrapy crawl link -O amarin.json"
   ]
  },
  {
   "cell_type": "code",
   "execution_count": null,
   "id": "54b6517b-b4bd-4114-bb14-55b3750a49a6",
   "metadata": {},
   "outputs": [],
   "source": []
  }
 ],
 "metadata": {
  "kernelspec": {
   "display_name": "Python 3 (ipykernel)",
   "language": "python",
   "name": "python3"
  },
  "language_info": {
   "codemirror_mode": {
    "name": "ipython",
    "version": 3
   },
   "file_extension": ".py",
   "mimetype": "text/x-python",
   "name": "python",
   "nbconvert_exporter": "python",
   "pygments_lexer": "ipython3",
   "version": "3.10.5"
  }
 },
 "nbformat": 4,
 "nbformat_minor": 5
}
