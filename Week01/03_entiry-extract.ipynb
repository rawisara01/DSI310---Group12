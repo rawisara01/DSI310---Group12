{
 "cells": [
  {
   "cell_type": "markdown",
   "id": "650b44b0-e879-4125-8454-4be0e70dd62e",
   "metadata": {},
   "source": [
    "# 03_entiry-extract"
   ]
  },
  {
   "cell_type": "code",
   "execution_count": null,
   "id": "caac9aee-8a9d-4a2c-b562-dc85714ff027",
   "metadata": {},
   "outputs": [],
   "source": [
    "!pip install transformers torch\n",
    "!pip install sentencepiece"
   ]
  },
  {
   "cell_type": "markdown",
   "id": "33e416c3-16dd-4a05-87ab-1e6234bd4e69",
   "metadata": {},
   "source": [
    "## read stored data from DataPlatform"
   ]
  },
  {
   "cell_type": "code",
   "execution_count": null,
   "id": "985ec124-db7f-4452-9987-5099f257be6f",
   "metadata": {},
   "outputs": [],
   "source": [
    "from dsmlibrary.datanode import DataNode\n",
    "import json\n",
    "from tqdm.auto import tqdm\n",
    "import pandas as pd"
   ]
  },
  {
   "cell_type": "code",
   "execution_count": null,
   "id": "86ba1ee8-1e0e-4008-be98-c805f00a97ec",
   "metadata": {},
   "outputs": [],
   "source": [
    "dir_raw_id = 64\n",
    "dir_process_id = 65"
   ]
  },
  {
   "cell_type": "code",
   "execution_count": null,
   "id": "38af7e6b-a437-49f0-aeef-1d3eed65f5cf",
   "metadata": {},
   "outputs": [],
   "source": [
    "datanode = DataNode()"
   ]
  },
  {
   "cell_type": "code",
   "execution_count": null,
   "id": "bed2cd26-e32a-494a-91b2-4def7af42d4d",
   "metadata": {},
   "outputs": [],
   "source": [
    "meta, fp = datanode.get_file(datanode.get_file_id(directory_id=dir_raw_id, name='amarin.json'))\n",
    "meta"
   ]
  },
  {
   "cell_type": "code",
   "execution_count": null,
   "id": "a0dd839b-9238-43d5-a4ce-8dea113adaaa",
   "metadata": {},
   "outputs": [],
   "source": [
    "data = json.load(fp)\n",
    "data"
   ]
  },
  {
   "cell_type": "markdown",
   "id": "e9fb8cb5-9ee3-4753-a5eb-b7988d18eba9",
   "metadata": {},
   "source": [
    "## NER (NameEntitiesRegcognition)"
   ]
  },
  {
   "cell_type": "code",
   "execution_count": null,
   "id": "8ffb1fa0-51f7-42d3-9ce5-5df770724745",
   "metadata": {},
   "outputs": [],
   "source": [
    "from transformers import AutoTokenizer, AutoModelForTokenClassification\n",
    "from transformers import pipeline"
   ]
  },
  {
   "cell_type": "code",
   "execution_count": null,
   "id": "121529aa-ec03-445a-b769-e11bfcf710e6",
   "metadata": {},
   "outputs": [],
   "source": [
    "tokenizer = AutoTokenizer.from_pretrained(\"Davlan/xlm-roberta-base-ner-hrl\")\n",
    "model = AutoModelForTokenClassification.from_pretrained(\"Davlan/xlm-roberta-base-ner-hrl\")\n",
    "nlp = pipeline(\"ner\", model=model, tokenizer=tokenizer)"
   ]
  },
  {
   "cell_type": "code",
   "execution_count": null,
   "id": "53ab33a9-45d3-4f15-92be-46ac9509e932",
   "metadata": {},
   "outputs": [],
   "source": [
    "example = \"My name is Wolfgang and I live in Berlin\"\n",
    "\n",
    "ner_results = nlp(example)\n",
    "print(ner_results)"
   ]
  },
  {
   "cell_type": "code",
   "execution_count": null,
   "id": "3fc804b3-8d22-4742-b890-465e3f4e1264",
   "metadata": {},
   "outputs": [],
   "source": [
    "def post_process(preds):\n",
    "    data = []\n",
    "    for i in range(len(preds)): \n",
    "        a = preds[i]\n",
    "        text = a.get('word')\n",
    "        for j in range(i, len(preds)):\n",
    "            b = preds[j]\n",
    "            if b.get('start') == a.get('end'):\n",
    "                text += b.get('word')\n",
    "                a = b\n",
    "        data.append({\n",
    "            'type': a.get('entity'),\n",
    "            'text': text\n",
    "        })\n",
    "    tmp = []\n",
    "    for elm in data:\n",
    "        text = elm.get('text')\n",
    "        if bool(re.match(\"[ก-๛]|▁\", text)):\n",
    "            elm.update({'text': text.replace('▁', ' ')})\n",
    "            tmp.append(elm)\n",
    "    return tmp"
   ]
  },
  {
   "cell_type": "code",
   "execution_count": null,
   "id": "949ea486-6494-4f08-b5d6-5dc460329ce4",
   "metadata": {},
   "outputs": [],
   "source": [
    "data"
   ]
  },
  {
   "cell_type": "code",
   "execution_count": null,
   "id": "86cb1e57-2f69-457a-8485-7d186dc61a4b",
   "metadata": {},
   "outputs": [],
   "source": [
    "output"
   ]
  },
  {
   "cell_type": "code",
   "execution_count": null,
   "id": "660b38f3-9607-4883-9e20-a96e926c8780",
   "metadata": {},
   "outputs": [],
   "source": [
    "text = data[10]['Topic']\n",
    "text"
   ]
  },
  {
   "cell_type": "code",
   "execution_count": null,
   "id": "cde190f7-a044-4043-8fde-f68b98107985",
   "metadata": {},
   "outputs": [],
   "source": [
    "import re"
   ]
  },
  {
   "cell_type": "code",
   "execution_count": null,
   "id": "2c1b7513-23bb-4b8f-ad99-07bb98bdf8d4",
   "metadata": {},
   "outputs": [],
   "source": [
    "output = nlp(text)\n",
    "output"
   ]
  },
  {
   "cell_type": "code",
   "execution_count": null,
   "id": "89460b92-6e72-4d2f-8dea-5a89318ab321",
   "metadata": {},
   "outputs": [],
   "source": [
    "post_process(output)"
   ]
  },
  {
   "cell_type": "markdown",
   "id": "43ceb9bc-a420-486c-af9b-ff4062ba7615",
   "metadata": {},
   "source": [
    "## Process news to spo"
   ]
  },
  {
   "cell_type": "code",
   "execution_count": null,
   "id": "f970701d-14e9-4908-a9e8-ff2fdf9644ef",
   "metadata": {},
   "outputs": [],
   "source": [
    "spo = []\n",
    "for amarin in tqdm(data):\n",
    "    Head = amarin.get('Head') \n",
    "    if Head == None:\n",
    "        continue\n",
    "    spo.append({\n",
    "        'Head': amarin.get('Head', \"\"),\n",
    "        'Topic': amarin.get('Topic', \"\"),\n",
    "        'date': amarin.get('date', \"\"),\n",
    "        'tags': amarin.get('tags', \"\"),\n",
    "        })"
   ]
  },
  {
   "cell_type": "code",
   "execution_count": null,
   "id": "aa26bad2-539b-42fc-819d-0cd6310190f0",
   "metadata": {},
   "outputs": [],
   "source": [
    "df = pd.DataFrame(spo)\n",
    "df"
   ]
  },
  {
   "cell_type": "code",
   "execution_count": null,
   "id": "01f0f346-ae7e-449f-b60a-7ede16ed9a0e",
   "metadata": {},
   "outputs": [],
   "source": [
    "datanode.write(df=df, directory=dir_process_id, name=\"spo\", profiling=True, lineage=[datanode.get_file_id(directory_id=dir_raw_id, name='amarin.json')])"
   ]
  }
 ],
 "metadata": {
  "kernelspec": {
   "display_name": "Python 3",
   "language": "python",
   "name": "python3"
  },
  "language_info": {
   "codemirror_mode": {
    "name": "ipython",
    "version": 3
   },
   "file_extension": ".py",
   "mimetype": "text/x-python",
   "name": "python",
   "nbconvert_exporter": "python",
   "pygments_lexer": "ipython3",
   "version": "3.8.8"
  }
 },
 "nbformat": 4,
 "nbformat_minor": 5
}
