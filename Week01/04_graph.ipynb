{
 "cells": [
  {
   "cell_type": "markdown",
   "id": "c96f8bff-5778-4579-9317-b6d7ed7dafa8",
   "metadata": {},
   "source": [
    "# 04_graph"
   ]
  },
  {
   "cell_type": "code",
   "execution_count": null,
   "id": "bacf48fe-5968-44f0-abbf-963fa433e1dd",
   "metadata": {},
   "outputs": [],
   "source": [
    "pip install networkx"
   ]
  },
  {
   "cell_type": "markdown",
   "id": "4d2727dc-2138-4754-ae6e-6da81f68671c",
   "metadata": {},
   "source": [
    "## read news SPO from DataPlatform"
   ]
  },
  {
   "cell_type": "code",
   "execution_count": null,
   "id": "a7495f44-eaa4-486b-b56d-62efbceca3c0",
   "metadata": {},
   "outputs": [],
   "source": [
    "from dsmlibrary.datanode import DataNode\n",
    "from tqdm.auto import tqdm"
   ]
  },
  {
   "cell_type": "code",
   "execution_count": null,
   "id": "d19474fb-d389-4534-bf05-e679042b3963",
   "metadata": {},
   "outputs": [],
   "source": [
    "datanode = DataNode()"
   ]
  },
  {
   "cell_type": "code",
   "execution_count": null,
   "id": "f17d3628-c9d8-48f8-99cd-355f34cfc5ed",
   "metadata": {},
   "outputs": [],
   "source": [
    "dir_process_id = 65"
   ]
  },
  {
   "cell_type": "code",
   "execution_count": null,
   "id": "011446ab-c2b2-4afc-a27a-d80e493935cf",
   "metadata": {},
   "outputs": [],
   "source": [
    "df = datanode.read_df(datanode.get_file_id(directory_id=dir_process_id, name=\"spo.parquet\"))\n",
    "df"
   ]
  },
  {
   "cell_type": "markdown",
   "id": "a914b4a0-649a-4511-9a5f-43923000ce15",
   "metadata": {},
   "source": [
    "## prepair graph data"
   ]
  },
  {
   "cell_type": "code",
   "execution_count": null,
   "id": "305f3d4c-0ece-48b2-ad4b-96febeb68129",
   "metadata": {},
   "outputs": [],
   "source": [
    "graph_data = [(elm.get('tags'), elm.get('Topic')) for elm in df.to_dict('records')]\n",
    "graph_data  "
   ]
  },
  {
   "cell_type": "code",
   "execution_count": null,
   "id": "1fe6b794-ae43-487e-a74b-d1d18042d99e",
   "metadata": {},
   "outputs": [],
   "source": [
    "import networkx as nx\n",
    "import numpy as np\n",
    "import matplotlib.pyplot as plt\n",
    "\n",
    "from bokeh.io import output_notebook, show, save\n",
    "from bokeh.models import Range1d, Circle, ColumnDataSource, MultiLine\n",
    "from bokeh.plotting import figure\n",
    "from bokeh.plotting import from_networkx"
   ]
  },
  {
   "cell_type": "code",
   "execution_count": null,
   "id": "1b3085ee-c3d3-4117-8b42-7cdd57fbc045",
   "metadata": {},
   "outputs": [],
   "source": [
    "output_notebook()"
   ]
  },
  {
   "cell_type": "code",
   "execution_count": null,
   "id": "ad9c3a0e-223a-47b6-be81-2173f0e4e6ea",
   "metadata": {},
   "outputs": [],
   "source": [
    "news_titles = {elm:'name' for elm in list(df['tags'].unique())}\n",
    "news_titles"
   ]
  },
  {
   "cell_type": "code",
   "execution_count": null,
   "id": "0e604fe6-a801-4755-b8b0-c0c82c2a809d",
   "metadata": {},
   "outputs": [],
   "source": [
    "G = nx.Graph(graph_data)\n",
    "G"
   ]
  },
  {
   "cell_type": "code",
   "execution_count": null,
   "id": "287b7ce0-b8b1-4474-aa54-6c3a149f8ce2",
   "metadata": {},
   "outputs": [],
   "source": [
    "node_colors = {elm:'skyblue' if elm in news_titles else 'yellow' for elm in G.nodes()}\n",
    "node_colors"
   ]
  },
  {
   "cell_type": "markdown",
   "id": "327cc509-f1c4-4624-b127-19dfeb34c296",
   "metadata": {},
   "source": [
    "## visualize raw data"
   ]
  },
  {
   "cell_type": "code",
   "execution_count": null,
   "id": "a8d27f18-a67c-4905-b4ab-a6dc75340ddb",
   "metadata": {},
   "outputs": [],
   "source": [
    "title = \"News and NameEntities\"\n",
    "HOVER_TOOLTIPS = [(\"Character\", \"@index\")]\n",
    "nx.set_node_attributes(G, node_colors, 'node_colors')\n",
    "plot = figure(tooltips = HOVER_TOOLTIPS,\n",
    "              tools=\"pan,wheel_zoom,save,reset,hover\", active_scroll='wheel_zoom',\n",
    "            x_range=Range1d(-10.1, 10.1), y_range=Range1d(-10.1, 10.1), title=title,\n",
    "              frame_width=1200, frame_height=800\n",
    " )\n",
    "\n",
    "network_graph = from_networkx(G, nx.kamada_kawai_layout, scale=10, center=(0, 0))\n",
    "network_graph.node_renderer.glyph = Circle(size=15, fill_color='node_colors')\n",
    "network_graph.edge_renderer.glyph = MultiLine(line_alpha=0.5, line_width=1)\n",
    "plot.renderers.append(network_graph)\n",
    "show(plot)"
   ]
  },
  {
   "cell_type": "markdown",
   "id": "18589f0f-0a17-4f51-b46c-f35e8ca30d9c",
   "metadata": {},
   "source": [
    "## Compute betweenness_centrality graph"
   ]
  },
  {
   "cell_type": "code",
   "execution_count": null,
   "id": "ad4b1065-53a7-441f-a49a-a0772598e081",
   "metadata": {},
   "outputs": [],
   "source": [
    "def cal_size(val, k=10, k2=1000):\n",
    "    val = val * k * k2\n",
    "    if val > k: \n",
    "        return val\n",
    "    return k"
   ]
  },
  {
   "cell_type": "code",
   "execution_count": null,
   "id": "fec7a918-0eeb-439c-93bc-73194c484b72",
   "metadata": {},
   "outputs": [],
   "source": [
    "graph_values = nx.centrality.betweenness.betweenness_centrality(G)\n",
    "node_size = {k:cal_size(v, k=10, k2=1000) for k,v in graph_values.items()}"
   ]
  },
  {
   "cell_type": "code",
   "execution_count": null,
   "id": "3c96c0c8-a4ea-41bd-9ffc-9bfece992f00",
   "metadata": {},
   "outputs": [],
   "source": [
    "title = \"betweenness_centrality\"\n",
    "HOVER_TOOLTIPS = [(\"Character\", \"@index\")]\n",
    "\n",
    "nx.set_node_attributes(G, node_size, 'node_size')\n",
    "nx.set_node_attributes(G, node_colors, 'node_colors')\n",
    "\n",
    "plot = figure(tooltips = HOVER_TOOLTIPS,\n",
    "              tools=\"pan,wheel_zoom,save,reset,hover\", active_scroll='wheel_zoom',\n",
    "            x_range=Range1d(-10.1, 10.1), y_range=Range1d(-10.1, 10.1), title=title,\n",
    "              frame_width=1200, frame_height=800\n",
    ")\n",
    "\n",
    "network_graph = from_networkx(G, nx.kamada_kawai_layout, scale=10, center=(0, 0))\n",
    "network_graph.node_renderer.glyph = Circle(fill_color='node_colors', size='node_size')\n",
    "network_graph.edge_renderer.glyph = MultiLine(line_alpha=0.5, line_width=1)\n",
    "plot.renderers.append(network_graph)\n",
    "show(plot)"
   ]
  },
  {
   "cell_type": "markdown",
   "id": "9a93b65d-579b-4a63-8cc6-b777bb6f2219",
   "metadata": {},
   "source": [
    "## compute eigenvector_centrality"
   ]
  },
  {
   "cell_type": "code",
   "execution_count": null,
   "id": "9534f997-18a9-4935-8fb1-c09515704783",
   "metadata": {},
   "outputs": [],
   "source": [
    "graph_values = nx.centrality.eigenvector.eigenvector_centrality(G, max_iter=600)\n",
    "node_size = {k:cal_size(v, k=10, k2=15) for k,v in graph_values.items()}"
   ]
  },
  {
   "cell_type": "code",
   "execution_count": null,
   "id": "9eb3b67b-9f3e-4eb0-8557-fa801533e41d",
   "metadata": {},
   "outputs": [],
   "source": [
    "title = \"xxx\"\n",
    "HOVER_TOOLTIPS = [(\"Character\", \"@index\")]\n",
    "\n",
    "nx.set_node_attributes(G, node_size, 'node_size') \n",
    "nx.set_node_attributes(G, node_colors, 'node_colors')\n",
    "\n",
    "plot = figure(tooltips = HOVER_TOOLTIPS,\n",
    "              tools=\"pan,wheel_zoom,save,reset,hover\", active_scroll='wheel_zoom',\n",
    "            x_range=Range1d(-10.1, 10.1), y_range=Range1d(-10.1, 10.1), title=title,\n",
    "              frame_width=1200, frame_height=800\n",
    ")\n",
    "\n",
    "network_graph = from_networkx(G, nx.kamada_kawai_layout, scale=10, center=(0, 0))\n",
    "network_graph.node_renderer.glyph = Circle(fill_color='node_colors', size='node_size')\n",
    "network_graph.edge_renderer.glyph = MultiLine(line_alpha=0.5, line_width=1)\n",
    "plot.renderers.append(network_graph)\n",
    "show(plot)"
   ]
  }
 ],
 "metadata": {
  "kernelspec": {
   "display_name": "Python 3",
   "language": "python",
   "name": "python3"
  },
  "language_info": {
   "codemirror_mode": {
    "name": "ipython",
    "version": 3
   },
   "file_extension": ".py",
   "mimetype": "text/x-python",
   "name": "python",
   "nbconvert_exporter": "python",
   "pygments_lexer": "ipython3",
   "version": "3.8.8"
  }
 },
 "nbformat": 4,
 "nbformat_minor": 5
}
