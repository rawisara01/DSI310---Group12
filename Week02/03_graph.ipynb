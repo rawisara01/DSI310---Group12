{
 "cells": [
  {
   "cell_type": "code",
   "execution_count": null,
   "id": "c113bcd5-b76d-446c-987a-75936d6c5259",
   "metadata": {},
   "outputs": [],
   "source": [
    "!pip install networkx"
   ]
  },
  {
   "cell_type": "code",
   "execution_count": null,
   "id": "1edaa7d0-873a-48d0-b161-c57d27b55ee6",
   "metadata": {},
   "outputs": [],
   "source": [
    "from dsmlibrary.datanode import DataNode\n",
    "from tqdm.auto import tqdm"
   ]
  },
  {
   "cell_type": "code",
   "execution_count": null,
   "id": "9255698c-ca8f-4f6a-a7f4-a8ec7e87cb7d",
   "metadata": {},
   "outputs": [],
   "source": [
    "datanode = DataNode()"
   ]
  },
  {
   "cell_type": "code",
   "execution_count": null,
   "id": "df9ae135-2170-427f-ad16-6354f58f0906",
   "metadata": {},
   "outputs": [],
   "source": [
    "dir_process_id = 65"
   ]
  },
  {
   "cell_type": "code",
   "execution_count": null,
   "id": "9d85e700-908a-45e3-8d74-205ad99a2df1",
   "metadata": {},
   "outputs": [],
   "source": [
    "df = datanode.read_df(datanode.get_file_id(directory_id=dir_process_id, name=\"spo.parquet\"))\n",
    "df"
   ]
  },
  {
   "cell_type": "code",
   "execution_count": null,
   "id": "db7aee89-b87d-44e9-bca7-b7a65750e03a",
   "metadata": {},
   "outputs": [],
   "source": [
    "graph_data = [(elm.get('expw_step'), elm.get('cause')) for elm in df.to_dict('records')]\n",
    "graph_data"
   ]
  },
  {
   "cell_type": "code",
   "execution_count": null,
   "id": "9db263de-4b4e-4d40-8ba4-b349ed9c1e80",
   "metadata": {},
   "outputs": [],
   "source": [
    "import networkx as nx\n",
    "import numpy as np\n",
    "import matplotlib.pyplot as plt\n",
    "\n",
    "from bokeh.io import output_notebook, show, save\n",
    "from bokeh.models import Range1d, Circle, ColumnDataSource, MultiLine\n",
    "from bokeh.plotting import figure\n",
    "from bokeh.plotting import from_networkx"
   ]
  },
  {
   "cell_type": "code",
   "execution_count": null,
   "id": "e1cb8d3c-07e5-410a-970d-d036c8822bee",
   "metadata": {},
   "outputs": [],
   "source": [
    "output_notebook()"
   ]
  },
  {
   "cell_type": "code",
   "execution_count": null,
   "id": "d94fe1b9-3f6c-4caa-b71a-f0e3631e094f",
   "metadata": {},
   "outputs": [],
   "source": [
    "news_titles = {elm:'name' for elm in list(df['expw_step'].unique())}\n",
    "news_titles"
   ]
  },
  {
   "cell_type": "code",
   "execution_count": null,
   "id": "2e445d04-ab01-4d25-9515-1669cac6dab1",
   "metadata": {},
   "outputs": [],
   "source": [
    "G = nx.Graph(graph_data)\n",
    "G"
   ]
  },
  {
   "cell_type": "code",
   "execution_count": null,
   "id": "c8e70139-0f3f-47e0-bdd6-daf65b3c8515",
   "metadata": {},
   "outputs": [],
   "source": [
    "node_colors = {elm:'skyblue' if elm in news_titles else 'yellow' for elm in G.nodes()}\n",
    "node_colors"
   ]
  },
  {
   "cell_type": "code",
   "execution_count": null,
   "id": "89110d05-01c8-4193-98e6-915c364e8b96",
   "metadata": {},
   "outputs": [],
   "source": [
    "title = \"News and NameEntities\"\n",
    "HOVER_TOOLTIPS = [(\"Character\", \"@index\")]\n",
    "nx.set_node_attributes(G, node_colors, 'node_colors')\n",
    "plot = figure(tooltips = HOVER_TOOLTIPS,\n",
    "              tools=\"pan,wheel_zoom,save,reset,hover\", active_scroll='wheel_zoom',\n",
    "            x_range=Range1d(-10.1, 10.1), y_range=Range1d(-10.1, 10.1), title=title,\n",
    "              frame_width=1200, frame_height=800\n",
    " )\n",
    "\n",
    "network_graph = from_networkx(G, nx.kamada_kawai_layout, scale=10, center=(0, 0))\n",
    "network_graph.node_renderer.glyph = Circle(size=15, fill_color='node_colors')\n",
    "network_graph.edge_renderer.glyph = MultiLine(line_alpha=0.5, line_width=1)\n",
    "plot.renderers.append(network_graph)\n",
    "show(plot)"
   ]
  },
  {
   "cell_type": "code",
   "execution_count": null,
   "id": "ce14db94-aaf8-46ab-b7e7-47f4d9633139",
   "metadata": {},
   "outputs": [],
   "source": [
    "def cal_size(val, k=10, k2=1000):\n",
    "    val = val * k * k2\n",
    "    if val > k: \n",
    "        return val\n",
    "    return k"
   ]
  },
  {
   "cell_type": "code",
   "execution_count": null,
   "id": "38b5ef82-9126-4a3c-b44e-beca938a358b",
   "metadata": {},
   "outputs": [],
   "source": [
    "graph_values = nx.centrality.betweenness.betweenness_centrality(G)\n",
    "node_size = {k:cal_size(v, k=10, k2=1000) for k,v in graph_values.items()}"
   ]
  },
  {
   "cell_type": "code",
   "execution_count": null,
   "id": "57931ff8-b586-4147-8328-1cb84b8b47f3",
   "metadata": {},
   "outputs": [],
   "source": [
    "title = \"betweenness_centrality\"\n",
    "HOVER_TOOLTIPS = [(\"Character\", \"@index\")]\n",
    "\n",
    "nx.set_node_attributes(G, node_size, 'node_size')\n",
    "nx.set_node_attributes(G, node_colors, 'node_colors')\n",
    "\n",
    "plot = figure(tooltips = HOVER_TOOLTIPS,\n",
    "              tools=\"pan,wheel_zoom,save,reset,hover\", active_scroll='wheel_zoom',\n",
    "            x_range=Range1d(-10.1, 10.1), y_range=Range1d(-10.1, 10.1), title=title,\n",
    "              frame_width=1200, frame_height=800\n",
    ")\n",
    "\n",
    "network_graph = from_networkx(G, nx.kamada_kawai_layout, scale=10, center=(0, 0))\n",
    "network_graph.node_renderer.glyph = Circle(fill_color='node_colors', size='node_size')\n",
    "network_graph.edge_renderer.glyph = MultiLine(line_alpha=0.5, line_width=1)\n",
    "plot.renderers.append(network_graph)\n",
    "show(plot)"
   ]
  },
  {
   "cell_type": "code",
   "execution_count": null,
   "id": "3ee07df1-e961-4c9c-a734-9045e1826493",
   "metadata": {},
   "outputs": [],
   "source": [
    "graph_values = nx.centrality.eigenvector.eigenvector_centrality(G, max_iter=600)\n",
    "node_size = {k:cal_size(v, k=10, k2=15) for k,v in graph_values.items()}"
   ]
  },
  {
   "cell_type": "code",
   "execution_count": null,
   "id": "69410252-474a-4d44-a397-f71d8a93b4f9",
   "metadata": {},
   "outputs": [],
   "source": [
    "title = \"xxx\"\n",
    "HOVER_TOOLTIPS = [(\"Character\", \"@index\")]\n",
    "\n",
    "nx.set_node_attributes(G, node_size, 'node_size') \n",
    "nx.set_node_attributes(G, node_colors, 'node_colors')\n",
    "\n",
    "plot = figure(tooltips = HOVER_TOOLTIPS,\n",
    "              tools=\"pan,wheel_zoom,save,reset,hover\", active_scroll='wheel_zoom',\n",
    "            x_range=Range1d(-10.1, 10.1), y_range=Range1d(-10.1, 10.1), title=title,\n",
    "              frame_width=1200, frame_height=800\n",
    ")\n",
    "\n",
    "network_graph = from_networkx(G, nx.kamada_kawai_layout, scale=10, center=(0, 0))\n",
    "network_graph.node_renderer.glyph = Circle(fill_color='node_colors', size='node_size')\n",
    "network_graph.edge_renderer.glyph = MultiLine(line_alpha=0.5, line_width=1)\n",
    "plot.renderers.append(network_graph)\n",
    "show(plot)"
   ]
  },
  {
   "cell_type": "code",
   "execution_count": null,
   "id": "129f0d62-a0a4-4e44-819e-4852f49b3ed7",
   "metadata": {},
   "outputs": [],
   "source": []
  }
 ],
 "metadata": {
  "kernelspec": {
   "display_name": "Python 3 (ipykernel)",
   "language": "python",
   "name": "python3"
  },
  "language_info": {
   "codemirror_mode": {
    "name": "ipython",
    "version": 3
   },
   "file_extension": ".py",
   "mimetype": "text/x-python",
   "name": "python",
   "nbconvert_exporter": "python",
   "pygments_lexer": "ipython3",
   "version": "3.10.5"
  }
 },
 "nbformat": 4,
 "nbformat_minor": 5
}
