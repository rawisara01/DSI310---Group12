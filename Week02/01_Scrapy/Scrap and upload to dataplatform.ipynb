{
 "cells": [
  {
   "cell_type": "markdown",
   "id": "050826dd",
   "metadata": {},
   "source": [
    "# scrap"
   ]
  },
  {
   "cell_type": "markdown",
   "id": "ef56f8b4",
   "metadata": {},
   "source": [
    "## Getting data from exat-man.web.app"
   ]
  },
  {
   "cell_type": "code",
   "execution_count": null,
   "id": "16536cb0-bb17-4a64-b893-c67e27bb6672",
   "metadata": {},
   "outputs": [],
   "source": [
    "import requests\n",
    "from tqdm.auto import tqdm\n",
    "import json\n",
    "import pandas as pd"
   ]
  },
  {
   "cell_type": "code",
   "execution_count": null,
   "id": "62f23f9a-d3e9-4c76-9c5b-1fc33360bb69",
   "metadata": {},
   "outputs": [],
   "source": [
    "API_KEY = \"https://exat-man.web.app/api/EXAT_Accident/2565/1\"\n",
    "N_PAGE = 10"
   ]
  },
  {
   "cell_type": "code",
   "execution_count": null,
   "id": "2507f712-d653-49dc-9933-f0d5c568642a",
   "metadata": {
    "tags": []
   },
   "outputs": [],
   "source": [
    "url = 'https://exat-man.web.app/api/EXAT_Accident/2565/1'\n",
    "response = requests.get(url)\n",
    "print(response.json()['result'])"
   ]
  },
  {
   "cell_type": "code",
   "execution_count": null,
   "id": "88654b98-f4e3-4740-9ab5-b16714c7cb13",
   "metadata": {},
   "outputs": [],
   "source": [
    "df = pd.json_normalize(response.json()['result'])\n",
    "df"
   ]
  },
  {
   "cell_type": "code",
   "execution_count": null,
   "id": "543a3da4-8638-492e-96d6-187c4978a602",
   "metadata": {},
   "outputs": [],
   "source": [
    "input_json_file = ''\n",
    "output_csv_file = 'accident.csv'\n",
    "    \n",
    "df.to_csv(output_csv_file, index=False)"
   ]
  },
  {
   "cell_type": "markdown",
   "id": "af16d54d",
   "metadata": {},
   "source": [
    "## Upload data to DataPlatform"
   ]
  },
  {
   "cell_type": "code",
   "execution_count": null,
   "id": "7fe37b26-8dbf-4588-bc30-b0e03e4024be",
   "metadata": {},
   "outputs": [],
   "source": [
    "from dsmlibrary.datanode import DataNode"
   ]
  },
  {
   "cell_type": "code",
   "execution_count": null,
   "id": "eb1c3414-f284-4178-b35f-0153d27fa9be",
   "metadata": {},
   "outputs": [],
   "source": [
    "dir_raw_id = 64"
   ]
  },
  {
   "cell_type": "code",
   "execution_count": null,
   "id": "98febb34-8c97-4b9e-b9b5-c9e1ef385403",
   "metadata": {},
   "outputs": [],
   "source": [
    "datanode = DataNode()"
   ]
  },
  {
   "cell_type": "code",
   "execution_count": null,
   "id": "08c6f99b-947f-45c2-85f5-ed49acbd378b",
   "metadata": {},
   "outputs": [],
   "source": [
    "datanode.upload_file(directory_id=dir_raw_id, file_path='accident.csv')"
   ]
  }
 ],
 "metadata": {
  "kernelspec": {
   "display_name": "Python 3",
   "language": "python",
   "name": "python3"
  },
  "language_info": {
   "codemirror_mode": {
    "name": "ipython",
    "version": 3
   },
   "file_extension": ".py",
   "mimetype": "text/x-python",
   "name": "python",
   "nbconvert_exporter": "python",
   "pygments_lexer": "ipython3",
   "version": "3.8.8"
  }
 },
 "nbformat": 4,
 "nbformat_minor": 5
}
