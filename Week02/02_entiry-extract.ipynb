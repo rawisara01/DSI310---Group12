{
 "cells": [
  {
   "cell_type": "markdown",
   "id": "16afc4be",
   "metadata": {},
   "source": [
    "# 02_entiry-extract"
   ]
  },
  {
   "cell_type": "code",
   "execution_count": null,
   "id": "83bf62a2-414d-48f6-b891-10687d1348e9",
   "metadata": {},
   "outputs": [],
   "source": [
    "!pip install transformers torch\n",
    "!pip install sentencepiece"
   ]
  },
  {
   "cell_type": "code",
   "execution_count": null,
   "id": "a752a729-5c14-4730-bf9f-231286bd35e0",
   "metadata": {},
   "outputs": [],
   "source": [
    "from dsmlibrary.datanode import DataNode\n",
    "import json\n",
    "from tqdm.auto import tqdm\n",
    "import pandas as pd"
   ]
  },
  {
   "cell_type": "code",
   "execution_count": null,
   "id": "110dd1eb-277a-437f-887e-81156fce102a",
   "metadata": {},
   "outputs": [],
   "source": [
    "dir_raw_id = 64\n",
    "dir_process_id = 65"
   ]
  },
  {
   "cell_type": "code",
   "execution_count": null,
   "id": "a3fc7906-7243-47e0-9827-9d34fe1ecd94",
   "metadata": {},
   "outputs": [],
   "source": [
    "datanode = DataNode()"
   ]
  },
  {
   "cell_type": "code",
   "execution_count": null,
   "id": "cf904bee-5d05-4750-af75-9dd8f58c2b1f",
   "metadata": {},
   "outputs": [],
   "source": [
    "meta, fp = datanode.get_file(datanode.get_file_id(directory_id=dir_raw_id, name='accident.csv'))\n",
    "meta"
   ]
  },
  {
   "cell_type": "code",
   "execution_count": null,
   "id": "c71cfdee-7b63-435d-81f0-6eca43b6df39",
   "metadata": {},
   "outputs": [],
   "source": [
    "data = pd.read_csv('accident.csv')\n",
    "data"
   ]
  },
  {
   "cell_type": "markdown",
   "id": "cf4173e5",
   "metadata": {},
   "source": [
    "## write DataNode to DataPlatform"
   ]
  },
  {
   "cell_type": "code",
   "execution_count": null,
   "id": "0d0f7a54-6e6f-48f4-b312-f4de2fe94f40",
   "metadata": {},
   "outputs": [],
   "source": [
    "datanode.write(df=data, directory=dir_process_id, name=\"week02\", profiling=True, lineage=[datanode.get_file_id(directory_id=dir_raw_id, name='accident.csv')])"
   ]
  }
 ],
 "metadata": {
  "kernelspec": {
   "display_name": "Python 3",
   "language": "python",
   "name": "python3"
  },
  "language_info": {
   "codemirror_mode": {
    "name": "ipython",
    "version": 3
   },
   "file_extension": ".py",
   "mimetype": "text/x-python",
   "name": "python",
   "nbconvert_exporter": "python",
   "pygments_lexer": "ipython3",
   "version": "3.8.8"
  },
  "vscode": {
   "interpreter": {
    "hash": "e31c9e71e7de7a3f4484a49c70dd8f2667411c308954e0fcd4dffa25fe7ff0cc"
   }
  }
 },
 "nbformat": 4,
 "nbformat_minor": 5
}
