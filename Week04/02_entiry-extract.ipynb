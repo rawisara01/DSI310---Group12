{
 "cells": [
  {
   "cell_type": "markdown",
   "id": "62887103",
   "metadata": {},
   "source": [
    "# 02_entiry-extract"
   ]
  },
  {
   "cell_type": "code",
   "execution_count": null,
   "id": "fd2017ac-af9e-4a4f-a8b7-c7b5a3302e6c",
   "metadata": {},
   "outputs": [],
   "source": [
    "!pip install transformers torch\n",
    "!pip install sentencepiece"
   ]
  },
  {
   "cell_type": "code",
   "execution_count": null,
   "id": "541e5744-3ae6-49e3-bf45-750fda486503",
   "metadata": {},
   "outputs": [],
   "source": [
    "from dsmlibrary.datanode import DataNode\n",
    "from tqdm.auto import tqdm\n",
    "import pandas as pd"
   ]
  },
  {
   "cell_type": "code",
   "execution_count": null,
   "id": "a380fee1-32cf-46e5-be2d-5c01ea517c62",
   "metadata": {},
   "outputs": [],
   "source": [
    "dir_raw_id = 64\n",
    "dir_process_id = 65"
   ]
  },
  {
   "cell_type": "code",
   "execution_count": null,
   "id": "fac0a7cc-082c-4838-8213-9758c0387c53",
   "metadata": {},
   "outputs": [],
   "source": [
    "datanode = DataNode()"
   ]
  },
  {
   "cell_type": "code",
   "execution_count": null,
   "id": "21ccbadc-048a-4008-9d08-3f53723232ae",
   "metadata": {},
   "outputs": [],
   "source": [
    "meta, fp = datanode.get_file(datanode.get_file_id(directory_id=dir_raw_id, name='week04.csv'))\n",
    "meta"
   ]
  },
  {
   "cell_type": "code",
   "execution_count": null,
   "id": "d6d89e7e-fe8f-49cd-97bf-1d979532eab1",
   "metadata": {},
   "outputs": [],
   "source": [
    "data = pd.read_csv('week04.csv')\n",
    "data"
   ]
  },
  {
   "cell_type": "markdown",
   "id": "a64f0608",
   "metadata": {},
   "source": [
    "## write DataNode to DataPlatform"
   ]
  },
  {
   "cell_type": "code",
   "execution_count": null,
   "id": "ad834ef4-f835-41a9-9a17-9b658ee147df",
   "metadata": {},
   "outputs": [],
   "source": [
    "datanode.write(df=data, directory=dir_process_id, name=\"week04\", profiling=True, lineage=[datanode.get_file_id(directory_id=dir_raw_id, name='week04.csv')])"
   ]
  }
 ],
 "metadata": {
  "kernelspec": {
   "display_name": "Python 3",
   "language": "python",
   "name": "python3"
  },
  "language_info": {
   "codemirror_mode": {
    "name": "ipython",
    "version": 3
   },
   "file_extension": ".py",
   "mimetype": "text/x-python",
   "name": "python",
   "nbconvert_exporter": "python",
   "pygments_lexer": "ipython3",
   "version": "3.8.8"
  }
 },
 "nbformat": 4,
 "nbformat_minor": 5
}
