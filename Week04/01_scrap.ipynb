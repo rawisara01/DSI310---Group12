{
 "cells": [
  {
   "cell_type": "markdown",
   "metadata": {},
   "source": [
    "# 01_scrap\n",
    "\n",
    "- scrapping data from thestandard.co and upload to DataPlatform"
   ]
  },
  {
   "cell_type": "markdown",
   "metadata": {},
   "source": [
    "## Getting data from thestandard.co"
   ]
  },
  {
   "cell_type": "code",
   "execution_count": null,
   "metadata": {},
   "outputs": [],
   "source": [
    "import pandas as pd\n",
    "import bs4\n",
    "import requests\n",
    "from bs4 import BeautifulSoup\n",
    "import csv"
   ]
  },
  {
   "cell_type": "code",
   "execution_count": null,
   "metadata": {
    "id": "HyaOjz7m6Tb2"
   },
   "outputs": [],
   "source": [
    "title_list = []\n",
    "date_list = []\n",
    "detail_list = []"
   ]
  },
  {
   "cell_type": "code",
   "execution_count": null,
   "metadata": {
    "id": "R68w5-ZG6h5V"
   },
   "outputs": [],
   "source": [
    "page = 1\n",
    "while page <= 5:\n",
    "  data = requests.get('https://thestandard.co/page/'+str(page)+'?s=%E0%B8%AD%E0%B8%B8%E0%B8%9A%E0%B8%B1%E0%B8%95%E0%B8%B4%E0%B9%80%E0%B8%AB%E0%B8%95%E0%B8%B8&search=')\n",
    "  soup = bs4.BeautifulSoup(data.text,\"html.parser\")\n",
    "  for f in soup.find_all('div', class_='col-md-8'):\n",
    "    title_list.append(f.find('h3', class_= 'news-title').find('a').text.strip())\n",
    "    date_list.append(f.find('div', class_='date').text.strip())\n",
    "    detail_list.append(f.find('div', class_='desc').text.strip())\n",
    "  page += 1"
   ]
  },
  {
   "cell_type": "code",
   "execution_count": null,
   "metadata": {
    "id": "o2QdwMYr6v8p"
   },
   "outputs": [],
   "source": [
    "table = pd.DataFrame([title_list,date_list,detail_list]).transpose()"
   ]
  },
  {
   "cell_type": "code",
   "execution_count": null,
   "metadata": {
    "id": "pBNnWO5g6xKB"
   },
   "outputs": [],
   "source": [
    "table.columns = ['TITLE', 'date', 'DETAIL']"
   ]
  },
  {
   "cell_type": "code",
   "execution_count": null,
   "metadata": {
    "colab": {
     "base_uri": "https://localhost:8080/",
     "height": 455
    },
    "id": "8Q0Bg9Sx7jGD",
    "outputId": "800d3c92-6322-4d58-f90b-d119587711d5"
   },
   "outputs": [],
   "source": [
    "table.set_index('TITLE')"
   ]
  },
  {
   "cell_type": "code",
   "execution_count": null,
   "metadata": {
    "colab": {
     "base_uri": "https://localhost:8080/",
     "height": 424
    },
    "id": "oiWKjTW29V0q",
    "outputId": "77ce7066-dafa-4de9-8849-13a29f67cd6b"
   },
   "outputs": [],
   "source": [
    "table"
   ]
  },
  {
   "cell_type": "code",
   "execution_count": null,
   "metadata": {
    "colab": {
     "base_uri": "https://localhost:8080/",
     "height": 394
    },
    "id": "VzwdZvV09ZG1",
    "outputId": "fecf7bbd-7444-491d-b0d0-2120ea71739d"
   },
   "outputs": [],
   "source": [
    "table['date_split'] = table['date'].str.split('\\s')"
   ]
  },
  {
   "cell_type": "code",
   "execution_count": null,
   "metadata": {},
   "outputs": [],
   "source": [
    "table['D'] = table['date_split'].str[0]\n",
    "table['M'] = table['date_split'].str[1]\n",
    "table['Y']  = table['date_split'].str[2]"
   ]
  },
  {
   "cell_type": "code",
   "execution_count": null,
   "metadata": {
    "colab": {
     "base_uri": "https://localhost:8080/",
     "height": 363
    },
    "id": "8WSP3jtR9agN",
    "outputId": "85969836-79a8-46c3-bb94-883438c0d345"
   },
   "outputs": [],
   "source": [
    "table['M'].unique()"
   ]
  },
  {
   "cell_type": "code",
   "execution_count": null,
   "metadata": {},
   "outputs": [],
   "source": [
    "table['M'].replace({\n",
    "    'มกราคม':'01',\n",
    "    'กุมภาพันธ์':'02',\n",
    "    'มีนาคม' :'03',\n",
    "    'เมษายน':'04',\n",
    "    'พฤษภาคม':'05',\n",
    "     'มิถุนายน':'06',\n",
    "     'กรกฎาคม':'07',\n",
    "    'สิงหาคม':'08',\n",
    "    'กันยายน':'09',\n",
    "    'ตุลาคม':'10',\n",
    "    'พฤศจิกายน':'11',\n",
    "    'ธันวาคม': '12'\n",
    "    }, inplace=True)"
   ]
  },
  {
   "cell_type": "code",
   "execution_count": null,
   "metadata": {
    "id": "W3eZvenA9ctJ"
   },
   "outputs": [],
   "source": [
    "table['DATE'] = table['D']+'-'+table['M']+'-'+table['Y']"
   ]
  },
  {
   "cell_type": "code",
   "execution_count": null,
   "metadata": {},
   "outputs": [],
   "source": [
    "table['DATE'] = pd.to_datetime(table['DATE'])"
   ]
  },
  {
   "cell_type": "code",
   "execution_count": null,
   "metadata": {},
   "outputs": [],
   "source": [
    "table.drop(['date', 'date_split', 'D','M','Y'], axis=1, inplace=True)"
   ]
  },
  {
   "cell_type": "code",
   "execution_count": null,
   "metadata": {},
   "outputs": [],
   "source": [
    "table.info()"
   ]
  },
  {
   "cell_type": "code",
   "execution_count": null,
   "metadata": {},
   "outputs": [],
   "source": [
    "table"
   ]
  },
  {
   "cell_type": "code",
   "execution_count": null,
   "metadata": {},
   "outputs": [],
   "source": [
    "table.to_csv(r'week04.csv',index=False,encoding='utf-8')"
   ]
  },
  {
   "cell_type": "markdown",
   "metadata": {},
   "source": [
    "## Upload data to DataPlatform"
   ]
  },
  {
   "cell_type": "code",
   "execution_count": null,
   "metadata": {},
   "outputs": [],
   "source": [
    "from dsmlibrary.datanode import DataNode"
   ]
  },
  {
   "cell_type": "code",
   "execution_count": null,
   "metadata": {},
   "outputs": [],
   "source": [
    "dir_raw_id = 64"
   ]
  },
  {
   "cell_type": "code",
   "execution_count": null,
   "metadata": {},
   "outputs": [],
   "source": [
    "datanode = DataNode()"
   ]
  },
  {
   "cell_type": "code",
   "execution_count": null,
   "metadata": {},
   "outputs": [],
   "source": [
    "datanode.upload_file(directory_id=dir_raw_id, file_path='week04.csv')"
   ]
  }
 ],
 "metadata": {
  "accelerator": "GPU",
  "colab": {
   "provenance": []
  },
  "kernelspec": {
   "display_name": "Python 3",
   "language": "python",
   "name": "python3"
  },
  "language_info": {
   "codemirror_mode": {
    "name": "ipython",
    "version": 3
   },
   "file_extension": ".py",
   "mimetype": "text/x-python",
   "name": "python",
   "nbconvert_exporter": "python",
   "pygments_lexer": "ipython3",
   "version": "3.8.8"
  }
 },
 "nbformat": 4,
 "nbformat_minor": 4
}
